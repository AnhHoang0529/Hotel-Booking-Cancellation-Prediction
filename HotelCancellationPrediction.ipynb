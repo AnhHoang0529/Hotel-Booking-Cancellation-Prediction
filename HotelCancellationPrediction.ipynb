{
  "cells": [
    {
      "cell_type": "code",
      "execution_count": null,
      "metadata": {
        "id": "KTBLTk4y48xc"
      },
      "outputs": [],
      "source": [
        "import pandas as pd\n",
        "import numpy as np\n",
        "import matplotlib.pyplot as plt\n",
        "import seaborn as sns\n",
        "from sklearn.model_selection import train_test_split, cross_val_score, cross_val_predict, GridSearchCV\n",
        "from sklearn.linear_model import LogisticRegression\n",
        "from sklearn.neighbors import KNeighborsClassifier\n",
        "from sklearn.tree import DecisionTreeClassifier\n",
        "from sklearn.metrics import confusion_matrix, accuracy_score, f1_score, auc, roc_curve, classification_report\n",
        "from sklearn.preprocessing import LabelEncoder, StandardScaler\n",
        "from sklearn.ensemble import RandomForestClassifier\n",
        "from sklearn.pipeline import Pipeline\n",
        "from sklearn.neural_network import MLPClassifier\n",
        "import time"
      ]
    },
    {
      "cell_type": "markdown",
      "metadata": {
        "id": "R7H0sIp_9H3k"
      },
      "source": [
        "## Khảo sát dữ liệu"
      ]
    },
    {
      "cell_type": "markdown",
      "source": [
        "- Bộ dữ liệu: Hotel Booking Demand\n",
        "- Nguồn: https://www.kaggle.com/datasets/jessemostipak/hotel-booking-demand"
      ],
      "metadata": {
        "id": "17cjC4tXtPh1"
      }
    },
    {
      "cell_type": "code",
      "execution_count": null,
      "metadata": {
        "colab": {
          "base_uri": "https://localhost:8080/",
          "height": 630
        },
        "id": "uynC4gGQ9MHE",
        "outputId": "73d29968-0a13-4da8-d551-79becaa2e435"
      },
      "outputs": [
        {
          "output_type": "execute_result",
          "data": {
            "text/plain": [
              "          hotel  is_canceled  lead_time  arrival_date_year arrival_date_month  \\\n",
              "0  Resort Hotel            0        342               2015               July   \n",
              "1  Resort Hotel            0        737               2015               July   \n",
              "2  Resort Hotel            0          7               2015               July   \n",
              "3  Resort Hotel            0         13               2015               July   \n",
              "4  Resort Hotel            0         14               2015               July   \n",
              "5  Resort Hotel            0         14               2015               July   \n",
              "6  Resort Hotel            0          0               2015               July   \n",
              "7  Resort Hotel            0          9               2015               July   \n",
              "8  Resort Hotel            1         85               2015               July   \n",
              "9  Resort Hotel            1         75               2015               July   \n",
              "\n",
              "   arrival_date_week_number  arrival_date_day_of_month  \\\n",
              "0                        27                          1   \n",
              "1                        27                          1   \n",
              "2                        27                          1   \n",
              "3                        27                          1   \n",
              "4                        27                          1   \n",
              "5                        27                          1   \n",
              "6                        27                          1   \n",
              "7                        27                          1   \n",
              "8                        27                          1   \n",
              "9                        27                          1   \n",
              "\n",
              "   stays_in_weekend_nights  stays_in_week_nights  adults  ...  deposit_type  \\\n",
              "0                        0                     0       2  ...    No Deposit   \n",
              "1                        0                     0       2  ...    No Deposit   \n",
              "2                        0                     1       1  ...    No Deposit   \n",
              "3                        0                     1       1  ...    No Deposit   \n",
              "4                        0                     2       2  ...    No Deposit   \n",
              "5                        0                     2       2  ...    No Deposit   \n",
              "6                        0                     2       2  ...    No Deposit   \n",
              "7                        0                     2       2  ...    No Deposit   \n",
              "8                        0                     3       2  ...    No Deposit   \n",
              "9                        0                     3       2  ...    No Deposit   \n",
              "\n",
              "   agent company days_in_waiting_list customer_type    adr  \\\n",
              "0    NaN     NaN                    0     Transient    0.0   \n",
              "1    NaN     NaN                    0     Transient    0.0   \n",
              "2    NaN     NaN                    0     Transient   75.0   \n",
              "3  304.0     NaN                    0     Transient   75.0   \n",
              "4  240.0     NaN                    0     Transient   98.0   \n",
              "5  240.0     NaN                    0     Transient   98.0   \n",
              "6    NaN     NaN                    0     Transient  107.0   \n",
              "7  303.0     NaN                    0     Transient  103.0   \n",
              "8  240.0     NaN                    0     Transient   82.0   \n",
              "9   15.0     NaN                    0     Transient  105.5   \n",
              "\n",
              "   required_car_parking_spaces  total_of_special_requests  reservation_status  \\\n",
              "0                            0                          0           Check-Out   \n",
              "1                            0                          0           Check-Out   \n",
              "2                            0                          0           Check-Out   \n",
              "3                            0                          0           Check-Out   \n",
              "4                            0                          1           Check-Out   \n",
              "5                            0                          1           Check-Out   \n",
              "6                            0                          0           Check-Out   \n",
              "7                            0                          1           Check-Out   \n",
              "8                            0                          1            Canceled   \n",
              "9                            0                          0            Canceled   \n",
              "\n",
              "  reservation_status_date  \n",
              "0              2015-07-01  \n",
              "1              2015-07-01  \n",
              "2              2015-07-02  \n",
              "3              2015-07-02  \n",
              "4              2015-07-03  \n",
              "5              2015-07-03  \n",
              "6              2015-07-03  \n",
              "7              2015-07-03  \n",
              "8              2015-05-06  \n",
              "9              2015-04-22  \n",
              "\n",
              "[10 rows x 32 columns]"
            ],
            "text/html": [
              "\n",
              "  <div id=\"df-90d593f9-9116-4c45-89e4-84a5bedd5eed\">\n",
              "    <div class=\"colab-df-container\">\n",
              "      <div>\n",
              "<style scoped>\n",
              "    .dataframe tbody tr th:only-of-type {\n",
              "        vertical-align: middle;\n",
              "    }\n",
              "\n",
              "    .dataframe tbody tr th {\n",
              "        vertical-align: top;\n",
              "    }\n",
              "\n",
              "    .dataframe thead th {\n",
              "        text-align: right;\n",
              "    }\n",
              "</style>\n",
              "<table border=\"1\" class=\"dataframe\">\n",
              "  <thead>\n",
              "    <tr style=\"text-align: right;\">\n",
              "      <th></th>\n",
              "      <th>hotel</th>\n",
              "      <th>is_canceled</th>\n",
              "      <th>lead_time</th>\n",
              "      <th>arrival_date_year</th>\n",
              "      <th>arrival_date_month</th>\n",
              "      <th>arrival_date_week_number</th>\n",
              "      <th>arrival_date_day_of_month</th>\n",
              "      <th>stays_in_weekend_nights</th>\n",
              "      <th>stays_in_week_nights</th>\n",
              "      <th>adults</th>\n",
              "      <th>...</th>\n",
              "      <th>deposit_type</th>\n",
              "      <th>agent</th>\n",
              "      <th>company</th>\n",
              "      <th>days_in_waiting_list</th>\n",
              "      <th>customer_type</th>\n",
              "      <th>adr</th>\n",
              "      <th>required_car_parking_spaces</th>\n",
              "      <th>total_of_special_requests</th>\n",
              "      <th>reservation_status</th>\n",
              "      <th>reservation_status_date</th>\n",
              "    </tr>\n",
              "  </thead>\n",
              "  <tbody>\n",
              "    <tr>\n",
              "      <th>0</th>\n",
              "      <td>Resort Hotel</td>\n",
              "      <td>0</td>\n",
              "      <td>342</td>\n",
              "      <td>2015</td>\n",
              "      <td>July</td>\n",
              "      <td>27</td>\n",
              "      <td>1</td>\n",
              "      <td>0</td>\n",
              "      <td>0</td>\n",
              "      <td>2</td>\n",
              "      <td>...</td>\n",
              "      <td>No Deposit</td>\n",
              "      <td>NaN</td>\n",
              "      <td>NaN</td>\n",
              "      <td>0</td>\n",
              "      <td>Transient</td>\n",
              "      <td>0.0</td>\n",
              "      <td>0</td>\n",
              "      <td>0</td>\n",
              "      <td>Check-Out</td>\n",
              "      <td>2015-07-01</td>\n",
              "    </tr>\n",
              "    <tr>\n",
              "      <th>1</th>\n",
              "      <td>Resort Hotel</td>\n",
              "      <td>0</td>\n",
              "      <td>737</td>\n",
              "      <td>2015</td>\n",
              "      <td>July</td>\n",
              "      <td>27</td>\n",
              "      <td>1</td>\n",
              "      <td>0</td>\n",
              "      <td>0</td>\n",
              "      <td>2</td>\n",
              "      <td>...</td>\n",
              "      <td>No Deposit</td>\n",
              "      <td>NaN</td>\n",
              "      <td>NaN</td>\n",
              "      <td>0</td>\n",
              "      <td>Transient</td>\n",
              "      <td>0.0</td>\n",
              "      <td>0</td>\n",
              "      <td>0</td>\n",
              "      <td>Check-Out</td>\n",
              "      <td>2015-07-01</td>\n",
              "    </tr>\n",
              "    <tr>\n",
              "      <th>2</th>\n",
              "      <td>Resort Hotel</td>\n",
              "      <td>0</td>\n",
              "      <td>7</td>\n",
              "      <td>2015</td>\n",
              "      <td>July</td>\n",
              "      <td>27</td>\n",
              "      <td>1</td>\n",
              "      <td>0</td>\n",
              "      <td>1</td>\n",
              "      <td>1</td>\n",
              "      <td>...</td>\n",
              "      <td>No Deposit</td>\n",
              "      <td>NaN</td>\n",
              "      <td>NaN</td>\n",
              "      <td>0</td>\n",
              "      <td>Transient</td>\n",
              "      <td>75.0</td>\n",
              "      <td>0</td>\n",
              "      <td>0</td>\n",
              "      <td>Check-Out</td>\n",
              "      <td>2015-07-02</td>\n",
              "    </tr>\n",
              "    <tr>\n",
              "      <th>3</th>\n",
              "      <td>Resort Hotel</td>\n",
              "      <td>0</td>\n",
              "      <td>13</td>\n",
              "      <td>2015</td>\n",
              "      <td>July</td>\n",
              "      <td>27</td>\n",
              "      <td>1</td>\n",
              "      <td>0</td>\n",
              "      <td>1</td>\n",
              "      <td>1</td>\n",
              "      <td>...</td>\n",
              "      <td>No Deposit</td>\n",
              "      <td>304.0</td>\n",
              "      <td>NaN</td>\n",
              "      <td>0</td>\n",
              "      <td>Transient</td>\n",
              "      <td>75.0</td>\n",
              "      <td>0</td>\n",
              "      <td>0</td>\n",
              "      <td>Check-Out</td>\n",
              "      <td>2015-07-02</td>\n",
              "    </tr>\n",
              "    <tr>\n",
              "      <th>4</th>\n",
              "      <td>Resort Hotel</td>\n",
              "      <td>0</td>\n",
              "      <td>14</td>\n",
              "      <td>2015</td>\n",
              "      <td>July</td>\n",
              "      <td>27</td>\n",
              "      <td>1</td>\n",
              "      <td>0</td>\n",
              "      <td>2</td>\n",
              "      <td>2</td>\n",
              "      <td>...</td>\n",
              "      <td>No Deposit</td>\n",
              "      <td>240.0</td>\n",
              "      <td>NaN</td>\n",
              "      <td>0</td>\n",
              "      <td>Transient</td>\n",
              "      <td>98.0</td>\n",
              "      <td>0</td>\n",
              "      <td>1</td>\n",
              "      <td>Check-Out</td>\n",
              "      <td>2015-07-03</td>\n",
              "    </tr>\n",
              "    <tr>\n",
              "      <th>5</th>\n",
              "      <td>Resort Hotel</td>\n",
              "      <td>0</td>\n",
              "      <td>14</td>\n",
              "      <td>2015</td>\n",
              "      <td>July</td>\n",
              "      <td>27</td>\n",
              "      <td>1</td>\n",
              "      <td>0</td>\n",
              "      <td>2</td>\n",
              "      <td>2</td>\n",
              "      <td>...</td>\n",
              "      <td>No Deposit</td>\n",
              "      <td>240.0</td>\n",
              "      <td>NaN</td>\n",
              "      <td>0</td>\n",
              "      <td>Transient</td>\n",
              "      <td>98.0</td>\n",
              "      <td>0</td>\n",
              "      <td>1</td>\n",
              "      <td>Check-Out</td>\n",
              "      <td>2015-07-03</td>\n",
              "    </tr>\n",
              "    <tr>\n",
              "      <th>6</th>\n",
              "      <td>Resort Hotel</td>\n",
              "      <td>0</td>\n",
              "      <td>0</td>\n",
              "      <td>2015</td>\n",
              "      <td>July</td>\n",
              "      <td>27</td>\n",
              "      <td>1</td>\n",
              "      <td>0</td>\n",
              "      <td>2</td>\n",
              "      <td>2</td>\n",
              "      <td>...</td>\n",
              "      <td>No Deposit</td>\n",
              "      <td>NaN</td>\n",
              "      <td>NaN</td>\n",
              "      <td>0</td>\n",
              "      <td>Transient</td>\n",
              "      <td>107.0</td>\n",
              "      <td>0</td>\n",
              "      <td>0</td>\n",
              "      <td>Check-Out</td>\n",
              "      <td>2015-07-03</td>\n",
              "    </tr>\n",
              "    <tr>\n",
              "      <th>7</th>\n",
              "      <td>Resort Hotel</td>\n",
              "      <td>0</td>\n",
              "      <td>9</td>\n",
              "      <td>2015</td>\n",
              "      <td>July</td>\n",
              "      <td>27</td>\n",
              "      <td>1</td>\n",
              "      <td>0</td>\n",
              "      <td>2</td>\n",
              "      <td>2</td>\n",
              "      <td>...</td>\n",
              "      <td>No Deposit</td>\n",
              "      <td>303.0</td>\n",
              "      <td>NaN</td>\n",
              "      <td>0</td>\n",
              "      <td>Transient</td>\n",
              "      <td>103.0</td>\n",
              "      <td>0</td>\n",
              "      <td>1</td>\n",
              "      <td>Check-Out</td>\n",
              "      <td>2015-07-03</td>\n",
              "    </tr>\n",
              "    <tr>\n",
              "      <th>8</th>\n",
              "      <td>Resort Hotel</td>\n",
              "      <td>1</td>\n",
              "      <td>85</td>\n",
              "      <td>2015</td>\n",
              "      <td>July</td>\n",
              "      <td>27</td>\n",
              "      <td>1</td>\n",
              "      <td>0</td>\n",
              "      <td>3</td>\n",
              "      <td>2</td>\n",
              "      <td>...</td>\n",
              "      <td>No Deposit</td>\n",
              "      <td>240.0</td>\n",
              "      <td>NaN</td>\n",
              "      <td>0</td>\n",
              "      <td>Transient</td>\n",
              "      <td>82.0</td>\n",
              "      <td>0</td>\n",
              "      <td>1</td>\n",
              "      <td>Canceled</td>\n",
              "      <td>2015-05-06</td>\n",
              "    </tr>\n",
              "    <tr>\n",
              "      <th>9</th>\n",
              "      <td>Resort Hotel</td>\n",
              "      <td>1</td>\n",
              "      <td>75</td>\n",
              "      <td>2015</td>\n",
              "      <td>July</td>\n",
              "      <td>27</td>\n",
              "      <td>1</td>\n",
              "      <td>0</td>\n",
              "      <td>3</td>\n",
              "      <td>2</td>\n",
              "      <td>...</td>\n",
              "      <td>No Deposit</td>\n",
              "      <td>15.0</td>\n",
              "      <td>NaN</td>\n",
              "      <td>0</td>\n",
              "      <td>Transient</td>\n",
              "      <td>105.5</td>\n",
              "      <td>0</td>\n",
              "      <td>0</td>\n",
              "      <td>Canceled</td>\n",
              "      <td>2015-04-22</td>\n",
              "    </tr>\n",
              "  </tbody>\n",
              "</table>\n",
              "<p>10 rows × 32 columns</p>\n",
              "</div>\n",
              "      <button class=\"colab-df-convert\" onclick=\"convertToInteractive('df-90d593f9-9116-4c45-89e4-84a5bedd5eed')\"\n",
              "              title=\"Convert this dataframe to an interactive table.\"\n",
              "              style=\"display:none;\">\n",
              "        \n",
              "  <svg xmlns=\"http://www.w3.org/2000/svg\" height=\"24px\"viewBox=\"0 0 24 24\"\n",
              "       width=\"24px\">\n",
              "    <path d=\"M0 0h24v24H0V0z\" fill=\"none\"/>\n",
              "    <path d=\"M18.56 5.44l.94 2.06.94-2.06 2.06-.94-2.06-.94-.94-2.06-.94 2.06-2.06.94zm-11 1L8.5 8.5l.94-2.06 2.06-.94-2.06-.94L8.5 2.5l-.94 2.06-2.06.94zm10 10l.94 2.06.94-2.06 2.06-.94-2.06-.94-.94-2.06-.94 2.06-2.06.94z\"/><path d=\"M17.41 7.96l-1.37-1.37c-.4-.4-.92-.59-1.43-.59-.52 0-1.04.2-1.43.59L10.3 9.45l-7.72 7.72c-.78.78-.78 2.05 0 2.83L4 21.41c.39.39.9.59 1.41.59.51 0 1.02-.2 1.41-.59l7.78-7.78 2.81-2.81c.8-.78.8-2.07 0-2.86zM5.41 20L4 18.59l7.72-7.72 1.47 1.35L5.41 20z\"/>\n",
              "  </svg>\n",
              "      </button>\n",
              "      \n",
              "  <style>\n",
              "    .colab-df-container {\n",
              "      display:flex;\n",
              "      flex-wrap:wrap;\n",
              "      gap: 12px;\n",
              "    }\n",
              "\n",
              "    .colab-df-convert {\n",
              "      background-color: #E8F0FE;\n",
              "      border: none;\n",
              "      border-radius: 50%;\n",
              "      cursor: pointer;\n",
              "      display: none;\n",
              "      fill: #1967D2;\n",
              "      height: 32px;\n",
              "      padding: 0 0 0 0;\n",
              "      width: 32px;\n",
              "    }\n",
              "\n",
              "    .colab-df-convert:hover {\n",
              "      background-color: #E2EBFA;\n",
              "      box-shadow: 0px 1px 2px rgba(60, 64, 67, 0.3), 0px 1px 3px 1px rgba(60, 64, 67, 0.15);\n",
              "      fill: #174EA6;\n",
              "    }\n",
              "\n",
              "    [theme=dark] .colab-df-convert {\n",
              "      background-color: #3B4455;\n",
              "      fill: #D2E3FC;\n",
              "    }\n",
              "\n",
              "    [theme=dark] .colab-df-convert:hover {\n",
              "      background-color: #434B5C;\n",
              "      box-shadow: 0px 1px 3px 1px rgba(0, 0, 0, 0.15);\n",
              "      filter: drop-shadow(0px 1px 2px rgba(0, 0, 0, 0.3));\n",
              "      fill: #FFFFFF;\n",
              "    }\n",
              "  </style>\n",
              "\n",
              "      <script>\n",
              "        const buttonEl =\n",
              "          document.querySelector('#df-90d593f9-9116-4c45-89e4-84a5bedd5eed button.colab-df-convert');\n",
              "        buttonEl.style.display =\n",
              "          google.colab.kernel.accessAllowed ? 'block' : 'none';\n",
              "\n",
              "        async function convertToInteractive(key) {\n",
              "          const element = document.querySelector('#df-90d593f9-9116-4c45-89e4-84a5bedd5eed');\n",
              "          const dataTable =\n",
              "            await google.colab.kernel.invokeFunction('convertToInteractive',\n",
              "                                                     [key], {});\n",
              "          if (!dataTable) return;\n",
              "\n",
              "          const docLinkHtml = 'Like what you see? Visit the ' +\n",
              "            '<a target=\"_blank\" href=https://colab.research.google.com/notebooks/data_table.ipynb>data table notebook</a>'\n",
              "            + ' to learn more about interactive tables.';\n",
              "          element.innerHTML = '';\n",
              "          dataTable['output_type'] = 'display_data';\n",
              "          await google.colab.output.renderOutput(dataTable, element);\n",
              "          const docLink = document.createElement('div');\n",
              "          docLink.innerHTML = docLinkHtml;\n",
              "          element.appendChild(docLink);\n",
              "        }\n",
              "      </script>\n",
              "    </div>\n",
              "  </div>\n",
              "  "
            ]
          },
          "metadata": {},
          "execution_count": 2
        }
      ],
      "source": [
        "hotel_bookings = pd.read_csv(\"/content/drive/MyDrive/hotel_bookings.csv\", thousands = ',')\n",
        "hotel_bookings.head(10)"
      ]
    },
    {
      "cell_type": "code",
      "source": [
        "hotel_bookings[['is_canceled']].value_counts(normalize = True)"
      ],
      "metadata": {
        "colab": {
          "base_uri": "https://localhost:8080/"
        },
        "id": "rv9481TC8TMp",
        "outputId": "05e5e62f-a2d4-46bd-814f-f93249ab02be"
      },
      "execution_count": null,
      "outputs": [
        {
          "output_type": "execute_result",
          "data": {
            "text/plain": [
              "is_canceled\n",
              "0              0.629584\n",
              "1              0.370416\n",
              "dtype: float64"
            ]
          },
          "metadata": {},
          "execution_count": 3
        }
      ]
    },
    {
      "cell_type": "markdown",
      "source": [
        "=> Bộ dữ liệu bị mất cân bằng"
      ],
      "metadata": {
        "id": "uhaiO8S38ujq"
      }
    },
    {
      "cell_type": "code",
      "execution_count": null,
      "metadata": {
        "colab": {
          "base_uri": "https://localhost:8080/",
          "height": 364
        },
        "id": "sv7cEE0A9pv_",
        "outputId": "dd1e7dee-37f7-4b33-8210-beca7fcfd579"
      },
      "outputs": [
        {
          "output_type": "execute_result",
          "data": {
            "text/plain": [
              "         is_canceled      lead_time  arrival_date_year  \\\n",
              "count  119390.000000  119390.000000      119390.000000   \n",
              "mean        0.370416     104.011416        2016.156554   \n",
              "std         0.482918     106.863097           0.707476   \n",
              "min         0.000000       0.000000        2015.000000   \n",
              "25%         0.000000      18.000000        2016.000000   \n",
              "50%         0.000000      69.000000        2016.000000   \n",
              "75%         1.000000     160.000000        2017.000000   \n",
              "max         1.000000     737.000000        2017.000000   \n",
              "\n",
              "       arrival_date_week_number  arrival_date_day_of_month  \\\n",
              "count             119390.000000              119390.000000   \n",
              "mean                  27.165173                  15.798241   \n",
              "std                   13.605138                   8.780829   \n",
              "min                    1.000000                   1.000000   \n",
              "25%                   16.000000                   8.000000   \n",
              "50%                   28.000000                  16.000000   \n",
              "75%                   38.000000                  23.000000   \n",
              "max                   53.000000                  31.000000   \n",
              "\n",
              "       stays_in_weekend_nights  stays_in_week_nights         adults  \\\n",
              "count            119390.000000         119390.000000  119390.000000   \n",
              "mean                  0.927599              2.500302       1.856403   \n",
              "std                   0.998613              1.908286       0.579261   \n",
              "min                   0.000000              0.000000       0.000000   \n",
              "25%                   0.000000              1.000000       2.000000   \n",
              "50%                   1.000000              2.000000       2.000000   \n",
              "75%                   2.000000              3.000000       2.000000   \n",
              "max                  19.000000             50.000000      55.000000   \n",
              "\n",
              "            children         babies  is_repeated_guest  \\\n",
              "count  119386.000000  119390.000000      119390.000000   \n",
              "mean        0.103890       0.007949           0.031912   \n",
              "std         0.398561       0.097436           0.175767   \n",
              "min         0.000000       0.000000           0.000000   \n",
              "25%         0.000000       0.000000           0.000000   \n",
              "50%         0.000000       0.000000           0.000000   \n",
              "75%         0.000000       0.000000           0.000000   \n",
              "max        10.000000      10.000000           1.000000   \n",
              "\n",
              "       previous_cancellations  previous_bookings_not_canceled  \\\n",
              "count           119390.000000                   119390.000000   \n",
              "mean                 0.087118                        0.137097   \n",
              "std                  0.844336                        1.497437   \n",
              "min                  0.000000                        0.000000   \n",
              "25%                  0.000000                        0.000000   \n",
              "50%                  0.000000                        0.000000   \n",
              "75%                  0.000000                        0.000000   \n",
              "max                 26.000000                       72.000000   \n",
              "\n",
              "       booking_changes          agent      company  days_in_waiting_list  \\\n",
              "count    119390.000000  103050.000000  6797.000000         119390.000000   \n",
              "mean          0.221124      86.693382   189.266735              2.321149   \n",
              "std           0.652306     110.774548   131.655015             17.594721   \n",
              "min           0.000000       1.000000     6.000000              0.000000   \n",
              "25%           0.000000       9.000000    62.000000              0.000000   \n",
              "50%           0.000000      14.000000   179.000000              0.000000   \n",
              "75%           0.000000     229.000000   270.000000              0.000000   \n",
              "max          21.000000     535.000000   543.000000            391.000000   \n",
              "\n",
              "                 adr  required_car_parking_spaces  total_of_special_requests  \n",
              "count  119390.000000                119390.000000              119390.000000  \n",
              "mean      101.831122                     0.062518                   0.571363  \n",
              "std        50.535790                     0.245291                   0.792798  \n",
              "min        -6.380000                     0.000000                   0.000000  \n",
              "25%        69.290000                     0.000000                   0.000000  \n",
              "50%        94.575000                     0.000000                   0.000000  \n",
              "75%       126.000000                     0.000000                   1.000000  \n",
              "max      5400.000000                     8.000000                   5.000000  "
            ],
            "text/html": [
              "\n",
              "  <div id=\"df-61a5565d-ad9d-48b5-bf3a-6d5fd41a1430\">\n",
              "    <div class=\"colab-df-container\">\n",
              "      <div>\n",
              "<style scoped>\n",
              "    .dataframe tbody tr th:only-of-type {\n",
              "        vertical-align: middle;\n",
              "    }\n",
              "\n",
              "    .dataframe tbody tr th {\n",
              "        vertical-align: top;\n",
              "    }\n",
              "\n",
              "    .dataframe thead th {\n",
              "        text-align: right;\n",
              "    }\n",
              "</style>\n",
              "<table border=\"1\" class=\"dataframe\">\n",
              "  <thead>\n",
              "    <tr style=\"text-align: right;\">\n",
              "      <th></th>\n",
              "      <th>is_canceled</th>\n",
              "      <th>lead_time</th>\n",
              "      <th>arrival_date_year</th>\n",
              "      <th>arrival_date_week_number</th>\n",
              "      <th>arrival_date_day_of_month</th>\n",
              "      <th>stays_in_weekend_nights</th>\n",
              "      <th>stays_in_week_nights</th>\n",
              "      <th>adults</th>\n",
              "      <th>children</th>\n",
              "      <th>babies</th>\n",
              "      <th>is_repeated_guest</th>\n",
              "      <th>previous_cancellations</th>\n",
              "      <th>previous_bookings_not_canceled</th>\n",
              "      <th>booking_changes</th>\n",
              "      <th>agent</th>\n",
              "      <th>company</th>\n",
              "      <th>days_in_waiting_list</th>\n",
              "      <th>adr</th>\n",
              "      <th>required_car_parking_spaces</th>\n",
              "      <th>total_of_special_requests</th>\n",
              "    </tr>\n",
              "  </thead>\n",
              "  <tbody>\n",
              "    <tr>\n",
              "      <th>count</th>\n",
              "      <td>119390.000000</td>\n",
              "      <td>119390.000000</td>\n",
              "      <td>119390.000000</td>\n",
              "      <td>119390.000000</td>\n",
              "      <td>119390.000000</td>\n",
              "      <td>119390.000000</td>\n",
              "      <td>119390.000000</td>\n",
              "      <td>119390.000000</td>\n",
              "      <td>119386.000000</td>\n",
              "      <td>119390.000000</td>\n",
              "      <td>119390.000000</td>\n",
              "      <td>119390.000000</td>\n",
              "      <td>119390.000000</td>\n",
              "      <td>119390.000000</td>\n",
              "      <td>103050.000000</td>\n",
              "      <td>6797.000000</td>\n",
              "      <td>119390.000000</td>\n",
              "      <td>119390.000000</td>\n",
              "      <td>119390.000000</td>\n",
              "      <td>119390.000000</td>\n",
              "    </tr>\n",
              "    <tr>\n",
              "      <th>mean</th>\n",
              "      <td>0.370416</td>\n",
              "      <td>104.011416</td>\n",
              "      <td>2016.156554</td>\n",
              "      <td>27.165173</td>\n",
              "      <td>15.798241</td>\n",
              "      <td>0.927599</td>\n",
              "      <td>2.500302</td>\n",
              "      <td>1.856403</td>\n",
              "      <td>0.103890</td>\n",
              "      <td>0.007949</td>\n",
              "      <td>0.031912</td>\n",
              "      <td>0.087118</td>\n",
              "      <td>0.137097</td>\n",
              "      <td>0.221124</td>\n",
              "      <td>86.693382</td>\n",
              "      <td>189.266735</td>\n",
              "      <td>2.321149</td>\n",
              "      <td>101.831122</td>\n",
              "      <td>0.062518</td>\n",
              "      <td>0.571363</td>\n",
              "    </tr>\n",
              "    <tr>\n",
              "      <th>std</th>\n",
              "      <td>0.482918</td>\n",
              "      <td>106.863097</td>\n",
              "      <td>0.707476</td>\n",
              "      <td>13.605138</td>\n",
              "      <td>8.780829</td>\n",
              "      <td>0.998613</td>\n",
              "      <td>1.908286</td>\n",
              "      <td>0.579261</td>\n",
              "      <td>0.398561</td>\n",
              "      <td>0.097436</td>\n",
              "      <td>0.175767</td>\n",
              "      <td>0.844336</td>\n",
              "      <td>1.497437</td>\n",
              "      <td>0.652306</td>\n",
              "      <td>110.774548</td>\n",
              "      <td>131.655015</td>\n",
              "      <td>17.594721</td>\n",
              "      <td>50.535790</td>\n",
              "      <td>0.245291</td>\n",
              "      <td>0.792798</td>\n",
              "    </tr>\n",
              "    <tr>\n",
              "      <th>min</th>\n",
              "      <td>0.000000</td>\n",
              "      <td>0.000000</td>\n",
              "      <td>2015.000000</td>\n",
              "      <td>1.000000</td>\n",
              "      <td>1.000000</td>\n",
              "      <td>0.000000</td>\n",
              "      <td>0.000000</td>\n",
              "      <td>0.000000</td>\n",
              "      <td>0.000000</td>\n",
              "      <td>0.000000</td>\n",
              "      <td>0.000000</td>\n",
              "      <td>0.000000</td>\n",
              "      <td>0.000000</td>\n",
              "      <td>0.000000</td>\n",
              "      <td>1.000000</td>\n",
              "      <td>6.000000</td>\n",
              "      <td>0.000000</td>\n",
              "      <td>-6.380000</td>\n",
              "      <td>0.000000</td>\n",
              "      <td>0.000000</td>\n",
              "    </tr>\n",
              "    <tr>\n",
              "      <th>25%</th>\n",
              "      <td>0.000000</td>\n",
              "      <td>18.000000</td>\n",
              "      <td>2016.000000</td>\n",
              "      <td>16.000000</td>\n",
              "      <td>8.000000</td>\n",
              "      <td>0.000000</td>\n",
              "      <td>1.000000</td>\n",
              "      <td>2.000000</td>\n",
              "      <td>0.000000</td>\n",
              "      <td>0.000000</td>\n",
              "      <td>0.000000</td>\n",
              "      <td>0.000000</td>\n",
              "      <td>0.000000</td>\n",
              "      <td>0.000000</td>\n",
              "      <td>9.000000</td>\n",
              "      <td>62.000000</td>\n",
              "      <td>0.000000</td>\n",
              "      <td>69.290000</td>\n",
              "      <td>0.000000</td>\n",
              "      <td>0.000000</td>\n",
              "    </tr>\n",
              "    <tr>\n",
              "      <th>50%</th>\n",
              "      <td>0.000000</td>\n",
              "      <td>69.000000</td>\n",
              "      <td>2016.000000</td>\n",
              "      <td>28.000000</td>\n",
              "      <td>16.000000</td>\n",
              "      <td>1.000000</td>\n",
              "      <td>2.000000</td>\n",
              "      <td>2.000000</td>\n",
              "      <td>0.000000</td>\n",
              "      <td>0.000000</td>\n",
              "      <td>0.000000</td>\n",
              "      <td>0.000000</td>\n",
              "      <td>0.000000</td>\n",
              "      <td>0.000000</td>\n",
              "      <td>14.000000</td>\n",
              "      <td>179.000000</td>\n",
              "      <td>0.000000</td>\n",
              "      <td>94.575000</td>\n",
              "      <td>0.000000</td>\n",
              "      <td>0.000000</td>\n",
              "    </tr>\n",
              "    <tr>\n",
              "      <th>75%</th>\n",
              "      <td>1.000000</td>\n",
              "      <td>160.000000</td>\n",
              "      <td>2017.000000</td>\n",
              "      <td>38.000000</td>\n",
              "      <td>23.000000</td>\n",
              "      <td>2.000000</td>\n",
              "      <td>3.000000</td>\n",
              "      <td>2.000000</td>\n",
              "      <td>0.000000</td>\n",
              "      <td>0.000000</td>\n",
              "      <td>0.000000</td>\n",
              "      <td>0.000000</td>\n",
              "      <td>0.000000</td>\n",
              "      <td>0.000000</td>\n",
              "      <td>229.000000</td>\n",
              "      <td>270.000000</td>\n",
              "      <td>0.000000</td>\n",
              "      <td>126.000000</td>\n",
              "      <td>0.000000</td>\n",
              "      <td>1.000000</td>\n",
              "    </tr>\n",
              "    <tr>\n",
              "      <th>max</th>\n",
              "      <td>1.000000</td>\n",
              "      <td>737.000000</td>\n",
              "      <td>2017.000000</td>\n",
              "      <td>53.000000</td>\n",
              "      <td>31.000000</td>\n",
              "      <td>19.000000</td>\n",
              "      <td>50.000000</td>\n",
              "      <td>55.000000</td>\n",
              "      <td>10.000000</td>\n",
              "      <td>10.000000</td>\n",
              "      <td>1.000000</td>\n",
              "      <td>26.000000</td>\n",
              "      <td>72.000000</td>\n",
              "      <td>21.000000</td>\n",
              "      <td>535.000000</td>\n",
              "      <td>543.000000</td>\n",
              "      <td>391.000000</td>\n",
              "      <td>5400.000000</td>\n",
              "      <td>8.000000</td>\n",
              "      <td>5.000000</td>\n",
              "    </tr>\n",
              "  </tbody>\n",
              "</table>\n",
              "</div>\n",
              "      <button class=\"colab-df-convert\" onclick=\"convertToInteractive('df-61a5565d-ad9d-48b5-bf3a-6d5fd41a1430')\"\n",
              "              title=\"Convert this dataframe to an interactive table.\"\n",
              "              style=\"display:none;\">\n",
              "        \n",
              "  <svg xmlns=\"http://www.w3.org/2000/svg\" height=\"24px\"viewBox=\"0 0 24 24\"\n",
              "       width=\"24px\">\n",
              "    <path d=\"M0 0h24v24H0V0z\" fill=\"none\"/>\n",
              "    <path d=\"M18.56 5.44l.94 2.06.94-2.06 2.06-.94-2.06-.94-.94-2.06-.94 2.06-2.06.94zm-11 1L8.5 8.5l.94-2.06 2.06-.94-2.06-.94L8.5 2.5l-.94 2.06-2.06.94zm10 10l.94 2.06.94-2.06 2.06-.94-2.06-.94-.94-2.06-.94 2.06-2.06.94z\"/><path d=\"M17.41 7.96l-1.37-1.37c-.4-.4-.92-.59-1.43-.59-.52 0-1.04.2-1.43.59L10.3 9.45l-7.72 7.72c-.78.78-.78 2.05 0 2.83L4 21.41c.39.39.9.59 1.41.59.51 0 1.02-.2 1.41-.59l7.78-7.78 2.81-2.81c.8-.78.8-2.07 0-2.86zM5.41 20L4 18.59l7.72-7.72 1.47 1.35L5.41 20z\"/>\n",
              "  </svg>\n",
              "      </button>\n",
              "      \n",
              "  <style>\n",
              "    .colab-df-container {\n",
              "      display:flex;\n",
              "      flex-wrap:wrap;\n",
              "      gap: 12px;\n",
              "    }\n",
              "\n",
              "    .colab-df-convert {\n",
              "      background-color: #E8F0FE;\n",
              "      border: none;\n",
              "      border-radius: 50%;\n",
              "      cursor: pointer;\n",
              "      display: none;\n",
              "      fill: #1967D2;\n",
              "      height: 32px;\n",
              "      padding: 0 0 0 0;\n",
              "      width: 32px;\n",
              "    }\n",
              "\n",
              "    .colab-df-convert:hover {\n",
              "      background-color: #E2EBFA;\n",
              "      box-shadow: 0px 1px 2px rgba(60, 64, 67, 0.3), 0px 1px 3px 1px rgba(60, 64, 67, 0.15);\n",
              "      fill: #174EA6;\n",
              "    }\n",
              "\n",
              "    [theme=dark] .colab-df-convert {\n",
              "      background-color: #3B4455;\n",
              "      fill: #D2E3FC;\n",
              "    }\n",
              "\n",
              "    [theme=dark] .colab-df-convert:hover {\n",
              "      background-color: #434B5C;\n",
              "      box-shadow: 0px 1px 3px 1px rgba(0, 0, 0, 0.15);\n",
              "      filter: drop-shadow(0px 1px 2px rgba(0, 0, 0, 0.3));\n",
              "      fill: #FFFFFF;\n",
              "    }\n",
              "  </style>\n",
              "\n",
              "      <script>\n",
              "        const buttonEl =\n",
              "          document.querySelector('#df-61a5565d-ad9d-48b5-bf3a-6d5fd41a1430 button.colab-df-convert');\n",
              "        buttonEl.style.display =\n",
              "          google.colab.kernel.accessAllowed ? 'block' : 'none';\n",
              "\n",
              "        async function convertToInteractive(key) {\n",
              "          const element = document.querySelector('#df-61a5565d-ad9d-48b5-bf3a-6d5fd41a1430');\n",
              "          const dataTable =\n",
              "            await google.colab.kernel.invokeFunction('convertToInteractive',\n",
              "                                                     [key], {});\n",
              "          if (!dataTable) return;\n",
              "\n",
              "          const docLinkHtml = 'Like what you see? Visit the ' +\n",
              "            '<a target=\"_blank\" href=https://colab.research.google.com/notebooks/data_table.ipynb>data table notebook</a>'\n",
              "            + ' to learn more about interactive tables.';\n",
              "          element.innerHTML = '';\n",
              "          dataTable['output_type'] = 'display_data';\n",
              "          await google.colab.output.renderOutput(dataTable, element);\n",
              "          const docLink = document.createElement('div');\n",
              "          docLink.innerHTML = docLinkHtml;\n",
              "          element.appendChild(docLink);\n",
              "        }\n",
              "      </script>\n",
              "    </div>\n",
              "  </div>\n",
              "  "
            ]
          },
          "metadata": {},
          "execution_count": 4
        }
      ],
      "source": [
        "hotel_bookings.describe()"
      ]
    },
    {
      "cell_type": "code",
      "execution_count": null,
      "metadata": {
        "colab": {
          "base_uri": "https://localhost:8080/"
        },
        "id": "vj5pAQrF9qkl",
        "outputId": "97bbef45-1cbf-427f-ec6c-6d92d5c3bb6e"
      },
      "outputs": [
        {
          "output_type": "execute_result",
          "data": {
            "text/plain": [
              "(119390, 32)"
            ]
          },
          "metadata": {},
          "execution_count": 5
        }
      ],
      "source": [
        "hotel_bookings.shape"
      ]
    },
    {
      "cell_type": "code",
      "execution_count": null,
      "metadata": {
        "colab": {
          "base_uri": "https://localhost:8080/"
        },
        "id": "dHAX6lNt9sRV",
        "outputId": "9031cf6d-325e-42c5-f574-957af777b9b4"
      },
      "outputs": [
        {
          "output_type": "stream",
          "name": "stdout",
          "text": [
            "<class 'pandas.core.frame.DataFrame'>\n",
            "RangeIndex: 119390 entries, 0 to 119389\n",
            "Data columns (total 32 columns):\n",
            " #   Column                          Non-Null Count   Dtype  \n",
            "---  ------                          --------------   -----  \n",
            " 0   hotel                           119390 non-null  object \n",
            " 1   is_canceled                     119390 non-null  int64  \n",
            " 2   lead_time                       119390 non-null  int64  \n",
            " 3   arrival_date_year               119390 non-null  int64  \n",
            " 4   arrival_date_month              119390 non-null  object \n",
            " 5   arrival_date_week_number        119390 non-null  int64  \n",
            " 6   arrival_date_day_of_month       119390 non-null  int64  \n",
            " 7   stays_in_weekend_nights         119390 non-null  int64  \n",
            " 8   stays_in_week_nights            119390 non-null  int64  \n",
            " 9   adults                          119390 non-null  int64  \n",
            " 10  children                        119386 non-null  float64\n",
            " 11  babies                          119390 non-null  int64  \n",
            " 12  meal                            119390 non-null  object \n",
            " 13  country                         118902 non-null  object \n",
            " 14  market_segment                  119390 non-null  object \n",
            " 15  distribution_channel            119390 non-null  object \n",
            " 16  is_repeated_guest               119390 non-null  int64  \n",
            " 17  previous_cancellations          119390 non-null  int64  \n",
            " 18  previous_bookings_not_canceled  119390 non-null  int64  \n",
            " 19  reserved_room_type              119390 non-null  object \n",
            " 20  assigned_room_type              119390 non-null  object \n",
            " 21  booking_changes                 119390 non-null  int64  \n",
            " 22  deposit_type                    119390 non-null  object \n",
            " 23  agent                           103050 non-null  float64\n",
            " 24  company                         6797 non-null    float64\n",
            " 25  days_in_waiting_list            119390 non-null  int64  \n",
            " 26  customer_type                   119390 non-null  object \n",
            " 27  adr                             119390 non-null  float64\n",
            " 28  required_car_parking_spaces     119390 non-null  int64  \n",
            " 29  total_of_special_requests       119390 non-null  int64  \n",
            " 30  reservation_status              119390 non-null  object \n",
            " 31  reservation_status_date         119390 non-null  object \n",
            "dtypes: float64(4), int64(16), object(12)\n",
            "memory usage: 29.1+ MB\n"
          ]
        }
      ],
      "source": [
        "hotel_bookings.info()"
      ]
    },
    {
      "cell_type": "code",
      "execution_count": null,
      "metadata": {
        "colab": {
          "base_uri": "https://localhost:8080/"
        },
        "id": "1yuw5PCi9ucN",
        "outputId": "6269a64a-f87e-42ce-c22f-d6376244070d"
      },
      "outputs": [
        {
          "output_type": "execute_result",
          "data": {
            "text/plain": [
              "hotel                             0.000000\n",
              "is_canceled                       0.000000\n",
              "lead_time                         0.000000\n",
              "arrival_date_year                 0.000000\n",
              "arrival_date_month                0.000000\n",
              "arrival_date_week_number          0.000000\n",
              "arrival_date_day_of_month         0.000000\n",
              "stays_in_weekend_nights           0.000000\n",
              "stays_in_week_nights              0.000000\n",
              "adults                            0.000000\n",
              "children                          0.000034\n",
              "babies                            0.000000\n",
              "meal                              0.000000\n",
              "country                           0.004087\n",
              "market_segment                    0.000000\n",
              "distribution_channel              0.000000\n",
              "is_repeated_guest                 0.000000\n",
              "previous_cancellations            0.000000\n",
              "previous_bookings_not_canceled    0.000000\n",
              "reserved_room_type                0.000000\n",
              "assigned_room_type                0.000000\n",
              "booking_changes                   0.000000\n",
              "deposit_type                      0.000000\n",
              "agent                             0.136862\n",
              "company                           0.943069\n",
              "days_in_waiting_list              0.000000\n",
              "customer_type                     0.000000\n",
              "adr                               0.000000\n",
              "required_car_parking_spaces       0.000000\n",
              "total_of_special_requests         0.000000\n",
              "reservation_status                0.000000\n",
              "reservation_status_date           0.000000\n",
              "dtype: float64"
            ]
          },
          "metadata": {},
          "execution_count": 7
        }
      ],
      "source": [
        "hotel_bookings.isnull().sum()/hotel_bookings.shape[0]"
      ]
    },
    {
      "cell_type": "code",
      "execution_count": null,
      "metadata": {
        "id": "MES4H0sj97eP"
      },
      "outputs": [],
      "source": [
        "plot_cols = ['lead_time', 'stays_in_week_nights', 'stays_in_weekend_nights', 'adults', 'children', 'babies', 'is_repeated_guest', \n",
        "            'previous_cancellations', 'previous_bookings_not_canceled', 'booking_changes', 'days_in_waiting_list', 'adr', \n",
        "            'required_car_parking_spaces', 'total_of_special_requests']\n",
        "data_histplot = hotel_bookings[plot_cols]"
      ]
    },
    {
      "cell_type": "code",
      "execution_count": null,
      "metadata": {
        "colab": {
          "base_uri": "https://localhost:8080/",
          "height": 865
        },
        "id": "4ikeqlib98GX",
        "outputId": "aa958eeb-d2b0-4ecd-e77e-bd9119c20597"
      },
      "outputs": [
        {
          "output_type": "display_data",
          "data": {
            "text/plain": [
              "<Figure size 1440x1080 with 20 Axes>"
            ],
            "image/png": "[encoded data removed]"
          },
          "metadata": {
            "needs_background": "light"
          }
        }
      ],
      "source": [
        "# Vẽ biểu đồ histogram các thuộc tính kiểu numeric\n",
        "\n",
        "hotel_bookings.drop('is_canceled', axis = 1).hist(bins = 50, figsize=(20, 15))\n",
        "plt.show()"
      ]
    },
    {
      "cell_type": "markdown",
      "metadata": {
        "id": "xyrCXZA084Mv"
      },
      "source": [
        "## Làm sạch dữ liệu"
      ]
    },
    {
      "cell_type": "code",
      "execution_count": null,
      "metadata": {
        "colab": {
          "base_uri": "https://localhost:8080/"
        },
        "id": "VCB9Gswa8pRE",
        "outputId": "04e18722-8c9a-4229-9cd4-3d3639129b37"
      },
      "outputs": [
        {
          "output_type": "execute_result",
          "data": {
            "text/plain": [
              "(119210, 32)"
            ]
          },
          "metadata": {},
          "execution_count": 10
        }
      ],
      "source": [
        "# Loai bo lượt book không có khách hàng\n",
        "omit_index = hotel_bookings.loc[hotel_bookings['adults'] + hotel_bookings['children'] + hotel_bookings['babies'] == 0].index\n",
        "#hotel_bookings.loc[omit_index, ['adults', 'children', 'babies']]\n",
        "hotel_bookings.drop(hotel_bookings.index[list(omit_index)], inplace = True)\n",
        "hotel_bookings.shape"
      ]
    },
    {
      "cell_type": "code",
      "execution_count": null,
      "metadata": {
        "colab": {
          "base_uri": "https://localhost:8080/"
        },
        "id": "xBHfhXnd-ENU",
        "outputId": "035a8b51-648b-43d7-ab74-fd00e5528cfb"
      },
      "outputs": [
        {
          "output_type": "execute_result",
          "data": {
            "text/plain": [
              "hotel                             0\n",
              "is_canceled                       0\n",
              "lead_time                         0\n",
              "arrival_date_year                 0\n",
              "arrival_date_month                0\n",
              "arrival_date_week_number          0\n",
              "arrival_date_day_of_month         0\n",
              "stays_in_weekend_nights           0\n",
              "stays_in_week_nights              0\n",
              "adults                            0\n",
              "children                          0\n",
              "babies                            0\n",
              "meal                              0\n",
              "country                           0\n",
              "market_segment                    0\n",
              "distribution_channel              0\n",
              "is_repeated_guest                 0\n",
              "previous_cancellations            0\n",
              "previous_bookings_not_canceled    0\n",
              "reserved_room_type                0\n",
              "assigned_room_type                0\n",
              "booking_changes                   0\n",
              "deposit_type                      0\n",
              "agent                             0\n",
              "company                           0\n",
              "days_in_waiting_list              0\n",
              "customer_type                     0\n",
              "adr                               0\n",
              "required_car_parking_spaces       0\n",
              "total_of_special_requests         0\n",
              "reservation_status                0\n",
              "reservation_status_date           0\n",
              "dtype: int64"
            ]
          },
          "metadata": {},
          "execution_count": 11
        }
      ],
      "source": [
        "# Xử lý missing value\n",
        "# Loại bỏ hàng có thuộc tính children null\n",
        "hotel_bookings.dropna(subset = ['children'], inplace=True)\n",
        "# Điển cột country: unknown\n",
        "hotel_bookings['country'] = hotel_bookings['country'].fillna('Unknown')\n",
        "# Điền cột agent: Giá trị missing có thể do khách du lịch không đăng ký thông qua agent\n",
        "hotel_bookings['agent'] = hotel_bookings['agent'].fillna(0)\n",
        "# Điền cột company: Giá trị missing có thể do khách du lịch không đăng ký thông qua company\n",
        "hotel_bookings['company'] = hotel_bookings['company'].fillna(0)\n",
        "# Kiểm tra xem data còn giá trị null không?\n",
        "hotel_bookings.isnull().sum()"
      ]
    },
    {
      "cell_type": "code",
      "execution_count": null,
      "metadata": {
        "id": "yjk-b_YzBLIG"
      },
      "outputs": [],
      "source": [
        "# Kiểm tra kiểu dữ liệu của từng cột\n",
        "# Đổi 'children' sang int64 và đổi 'reservation_status_date' sang datetime\n",
        "\n",
        "hotel_bookings['children'] = hotel_bookings['children'].astype(int)\n",
        "hotel_bookings['reservation_status_date'] = pd.to_datetime(hotel_bookings['reservation_status_date'])"
      ]
    },
    {
      "cell_type": "code",
      "execution_count": null,
      "metadata": {
        "id": "HH6bT3wVJDam"
      },
      "outputs": [],
      "source": [
        "# Kết hợp các thuộc tính\n",
        "\n",
        "# Kết hợp 'arrival_date_year', 'arrival_date_month' và 'arrival_date_day_of_month' thành 'arrival_date'\n",
        "hotel_bookings['arrival_date'] = hotel_bookings['arrival_date_year'].astype(str) + \"-\" + hotel_bookings['arrival_date_month'].astype(str) + \"-\" + hotel_bookings['arrival_date_day_of_month'].astype(str)\n",
        "hotel_bookings['arrival_date'] = pd.to_datetime(hotel_bookings['arrival_date'], format = \"%Y-%B-%d\")\n",
        "\n",
        "# Tính khoảng cách giữa 'arrival_date' và 'reservation_status_date'\n",
        "hotel_bookings['status_minus_arrival_date'] = np.abs(hotel_bookings['reservation_status_date'] - hotel_bookings['arrival_date']).astype(str)\n",
        "def format_length(date):\n",
        "  return date[0]\n",
        "hotel_bookings['status_minus_arrival_date'] = hotel_bookings['status_minus_arrival_date'].map(format_length).astype(int)\n",
        "\n",
        "# Kết hợp 'adults', 'children' và 'babies' thành 'total_guests'\n",
        "hotel_bookings['total_guests'] = hotel_bookings['adults'] + hotel_bookings['children'] + hotel_bookings['babies']\n",
        "\n",
        "# Tạo thuộc tính mới: price_per_guest\n",
        "hotel_bookings['price_per_guest'] = hotel_bookings['adr']/hotel_bookings['total_guests']"
      ]
    },
    {
      "cell_type": "code",
      "execution_count": null,
      "metadata": {
        "colab": {
          "base_uri": "https://localhost:8080/"
        },
        "id": "cefbnAMBJBhW",
        "outputId": "7d683deb-96de-4d89-da68-b9f4c7db121c"
      },
      "outputs": [
        {
          "output_type": "stream",
          "name": "stdout",
          "text": [
            "<class 'pandas.core.frame.DataFrame'>\n",
            "Int64Index: 119206 entries, 0 to 119389\n",
            "Data columns (total 36 columns):\n",
            " #   Column                          Non-Null Count   Dtype         \n",
            "---  ------                          --------------   -----         \n",
            " 0   hotel                           119206 non-null  object        \n",
            " 1   is_canceled                     119206 non-null  int64         \n",
            " 2   lead_time                       119206 non-null  int64         \n",
            " 3   arrival_date_year               119206 non-null  int64         \n",
            " 4   arrival_date_month              119206 non-null  object        \n",
            " 5   arrival_date_week_number        119206 non-null  int64         \n",
            " 6   arrival_date_day_of_month       119206 non-null  int64         \n",
            " 7   stays_in_weekend_nights         119206 non-null  int64         \n",
            " 8   stays_in_week_nights            119206 non-null  int64         \n",
            " 9   adults                          119206 non-null  int64         \n",
            " 10  children                        119206 non-null  int64         \n",
            " 11  babies                          119206 non-null  int64         \n",
            " 12  meal                            119206 non-null  object        \n",
            " 13  country                         119206 non-null  object        \n",
            " 14  market_segment                  119206 non-null  object        \n",
            " 15  distribution_channel            119206 non-null  object        \n",
            " 16  is_repeated_guest               119206 non-null  int64         \n",
            " 17  previous_cancellations          119206 non-null  int64         \n",
            " 18  previous_bookings_not_canceled  119206 non-null  int64         \n",
            " 19  reserved_room_type              119206 non-null  object        \n",
            " 20  assigned_room_type              119206 non-null  object        \n",
            " 21  booking_changes                 119206 non-null  int64         \n",
            " 22  deposit_type                    119206 non-null  object        \n",
            " 23  agent                           119206 non-null  float64       \n",
            " 24  company                         119206 non-null  float64       \n",
            " 25  days_in_waiting_list            119206 non-null  int64         \n",
            " 26  customer_type                   119206 non-null  object        \n",
            " 27  adr                             119206 non-null  float64       \n",
            " 28  required_car_parking_spaces     119206 non-null  int64         \n",
            " 29  total_of_special_requests       119206 non-null  int64         \n",
            " 30  reservation_status              119206 non-null  object        \n",
            " 31  reservation_status_date         119206 non-null  datetime64[ns]\n",
            " 32  arrival_date                    119206 non-null  datetime64[ns]\n",
            " 33  status_minus_arrival_date       119206 non-null  int64         \n",
            " 34  total_guests                    119206 non-null  int64         \n",
            " 35  price_per_guest                 119206 non-null  float64       \n",
            "dtypes: datetime64[ns](2), float64(4), int64(19), object(11)\n",
            "memory usage: 33.7+ MB\n"
          ]
        }
      ],
      "source": [
        "hotel_bookings.info()"
      ]
    },
    {
      "cell_type": "markdown",
      "metadata": {
        "id": "ChEp4XrcQAYp"
      },
      "source": [
        "## Phân tích dữ liệu"
      ]
    },
    {
      "cell_type": "code",
      "execution_count": null,
      "metadata": {
        "colab": {
          "base_uri": "https://localhost:8080/",
          "height": 1000
        },
        "id": "q71_AlLfYxqe",
        "outputId": "6867f8f0-34f2-4408-b091-af3523365d9c"
      },
      "outputs": [
        {
          "output_type": "execute_result",
          "data": {
            "text/plain": [
              "<seaborn.axisgrid.FacetGrid at 0x7fa1360fd390>"
            ]
          },
          "metadata": {},
          "execution_count": 15
        },
        {
          "output_type": "display_data",
          "data": {
            "text/plain": [
              "<Figure size 1152x1440 with 15 Axes>"
            ],
            "image/png": "[encoded data removed]"
          },
          "metadata": {
            "needs_background": "light"
          }
        }
      ],
      "source": [
        "num_var = ['lead_time', 'stays_in_week_nights', 'stays_in_weekend_nights', 'adults', 'children', 'babies', \n",
        "            'previous_cancellations', 'previous_bookings_not_canceled', 'booking_changes', 'days_in_waiting_list', 'adr', \n",
        "            'required_car_parking_spaces', 'total_of_special_requests', 'status_minus_arrival_date', 'total_guests']\n",
        "sns.catplot(col = \"variable\", y = \"value\", data = pd.melt(hotel_bookings[num_var]), \n",
        "            kind = 'box', col_wrap = 4, sharey = False, palette = 'Blues', height = 5, aspect = .8)"
      ]
    },
    {
      "cell_type": "code",
      "execution_count": null,
      "metadata": {
        "colab": {
          "base_uri": "https://localhost:8080/",
          "height": 651
        },
        "id": "hTnHPoQAsYiA",
        "outputId": "34957e78-45cb-4f02-d682-61ec520459b5"
      },
      "outputs": [
        {
          "output_type": "execute_result",
          "data": {
            "text/plain": [
              "(23.0, 1.0)"
            ]
          },
          "metadata": {},
          "execution_count": 16
        },
        {
          "output_type": "display_data",
          "data": {
            "text/plain": [
              "<Figure size 576x720 with 2 Axes>"
            ],
            "image/png": "[encoded data removed]"
          },
          "metadata": {
            "needs_background": "light"
          }
        }
      ],
      "source": [
        "fig = plt.figure(figsize=(8,10))\n",
        "ax = sns.heatmap(hotel_bookings.corr()[['is_canceled']].sort_values('is_canceled', ascending=False), \n",
        "                 annot = True, annot_kws = {\"size\":12}, cmap='Blues')\n",
        "ax.set_title('Correlation Coefficient Between Each Numeric Feature and Cancellation Status', fontsize=18)\n",
        "ax.set_xlabel('Features', fontsize = 16)\n",
        "ax.set_ylabel('Features', fontsize = 16)\n",
        "ax.tick_params(axis = \"both\", labelsize = 12);\n",
        "y_min, y_max = ax.get_ylim()\n",
        "ax.set_ylim(top=y_max+1)"
      ]
    },
    {
      "cell_type": "code",
      "execution_count": null,
      "metadata": {
        "colab": {
          "base_uri": "https://localhost:8080/"
        },
        "id": "-lXky8a_Tzvb",
        "outputId": "6f489517-a152-4ce1-9445-b4f3b93537bd"
      },
      "outputs": [
        {
          "output_type": "execute_result",
          "data": {
            "text/plain": [
              "is_canceled                       1.000000\n",
              "lead_time                         0.292930\n",
              "total_of_special_requests         0.234925\n",
              "required_car_parking_spaces       0.195696\n",
              "booking_changes                   0.144821\n",
              "previous_cancellations            0.110147\n",
              "is_repeated_guest                 0.083740\n",
              "company                           0.083588\n",
              "adults                            0.058155\n",
              "previous_bookings_not_canceled    0.057363\n",
              "days_in_waiting_list              0.054309\n",
              "agent                             0.046743\n",
              "adr                               0.046558\n",
              "total_guests                      0.044811\n",
              "babies                            0.032566\n",
              "stays_in_week_nights              0.025549\n",
              "price_per_guest                   0.019591\n",
              "arrival_date_year                 0.016694\n",
              "status_minus_arrival_date         0.010446\n",
              "arrival_date_week_number          0.008299\n",
              "arrival_date_day_of_month         0.005902\n",
              "children                          0.004862\n",
              "stays_in_weekend_nights           0.001316\n",
              "Name: is_canceled, dtype: float64"
            ]
          },
          "metadata": {},
          "execution_count": 17
        }
      ],
      "source": [
        "hotel_bookings.corr()['is_canceled'].abs().sort_values(ascending = False)"
      ]
    },
    {
      "cell_type": "code",
      "execution_count": null,
      "metadata": {
        "colab": {
          "base_uri": "https://localhost:8080/",
          "height": 350
        },
        "id": "QLQY2kzjQB4F",
        "outputId": "039e1a0d-9a30-4e8c-eadd-c7f00652abed"
      },
      "outputs": [
        {
          "output_type": "display_data",
          "data": {
            "text/plain": [
              "<Figure size 576x360 with 1 Axes>"
            ],
            "image/png": "[encoded data removed]"
          },
          "metadata": {
            "needs_background": "light"
          }
        }
      ],
      "source": [
        "# So sánh tỉ lệ hủy bookings và không hủy bookings\n",
        "\n",
        "plt.figure(figsize=(8,5)) \n",
        "plt.title(\"Percentage of Bookings per Status\")\n",
        "sns.barplot(x = hotel_bookings['is_canceled'].unique(), y = hotel_bookings['is_canceled'].value_counts(normalize=True), palette = 'Blues')\n",
        "plt.xlabel(\"Booking Status\")\n",
        "plt.ylabel(\"Percentage of Bookings\")\n",
        "plt.xticks(ticks=[0, 1], labels=['Not Canceled', 'Canceled']);"
      ]
    },
    {
      "cell_type": "markdown",
      "metadata": {
        "id": "qkdzP6w0aFAV"
      },
      "source": [
        "**Nhận xét**: Tỉ lệ hủy đặt phòng là 37%"
      ]
    },
    {
      "cell_type": "code",
      "execution_count": null,
      "metadata": {
        "colab": {
          "base_uri": "https://localhost:8080/",
          "height": 367
        },
        "id": "rC6c0xkxY9ut",
        "outputId": "394ff550-7c2d-456d-d768-057553db3b0b"
      },
      "outputs": [
        {
          "output_type": "execute_result",
          "data": {
            "text/plain": [
              "<matplotlib.legend.Legend at 0x7fa136e09850>"
            ]
          },
          "metadata": {},
          "execution_count": 19
        },
        {
          "output_type": "display_data",
          "data": {
            "text/plain": [
              "<Figure size 576x360 with 1 Axes>"
            ],
            "image/png": "[encoded data removed]"
          },
          "metadata": {
            "needs_background": "light"
          }
        }
      ],
      "source": [
        "plt.figure(figsize = (8, 5))\n",
        "plt.title('Percentage of Bookings in Resort Hotel and City Hotel')\n",
        "\n",
        "total = hotel_bookings.groupby('hotel')['is_canceled'].count().reset_index()\n",
        "canceled = hotel_bookings[hotel_bookings['is_canceled'] == 1].groupby('hotel')['is_canceled'].count().reset_index()\n",
        "\n",
        "canceled['is_canceled'] = canceled['is_canceled']/total['is_canceled']\n",
        "total['is_canceled'] = total['is_canceled']/total['is_canceled']\n",
        "\n",
        "sns.barplot(x = 'hotel', y = 'is_canceled', data = total, color = '#4884af')\n",
        "sns.barplot(x = 'hotel', y = 'is_canceled', data = canceled, color = '#b3cede')\n",
        "\n",
        "top_bar = mpatches.Patch(color = '#4884af', label = 'is_cancel = 0' )\n",
        "bottom_bar = mpatches.Patch(color = '#b3cede', label = 'is_cancel = 1')\n",
        "plt.legend(handles=[top_bar, bottom_bar])"
      ]
    },
    {
      "cell_type": "markdown",
      "metadata": {
        "id": "eFkKUZWEaQml"
      },
      "source": [
        "**Nhận xét:** Tỉ lệ hủy đặt phòng ở City Hotel cao hơn so với ở Resort Hotel. Có thể là do phí đặt phòng ở Resort cao hơn hoặc chất lượng dịch vụ ở Resort cao hơn nên ít người hủy đặt phòng hơn."
      ]
    },
    {
      "cell_type": "code",
      "execution_count": null,
      "metadata": {
        "colab": {
          "base_uri": "https://localhost:8080/",
          "height": 367
        },
        "id": "QwKaAxkdTItm",
        "outputId": "43cebe53-2c3a-4a34-e59a-e2fc4882d0c8"
      },
      "outputs": [
        {
          "output_type": "execute_result",
          "data": {
            "text/plain": [
              "Text(0, 0.5, 'Percentage of Bookings')"
            ]
          },
          "metadata": {},
          "execution_count": 20
        },
        {
          "output_type": "display_data",
          "data": {
            "text/plain": [
              "<Figure size 576x360 with 1 Axes>"
            ],
            "image/png": "[encoded data removed]"
          },
          "metadata": {
            "needs_background": "light"
          }
        }
      ],
      "source": [
        "# Trực quan hóa tỉ lệ hủy booking trước khi nhận phòng\n",
        "\n",
        "plt.figure(figsize = (8, 5))\n",
        "plt.title('Percentage of Canceled vs No-Show Bookings')\n",
        "plt_data = hotel_bookings[hotel_bookings['is_canceled'] == 1]['reservation_status']\n",
        "sns.barplot(x = plt_data.unique(), y = plt_data.value_counts(normalize = True), palette = 'Blues')\n",
        "plt.xlabel(\"Booking Status\")\n",
        "plt.ylabel('Percentage of Bookings')"
      ]
    },
    {
      "cell_type": "code",
      "execution_count": null,
      "metadata": {
        "colab": {
          "base_uri": "https://localhost:8080/"
        },
        "id": "_J739XBmVX3k",
        "outputId": "25a097b8-b820-4033-cdbc-a11a9e3cddb6"
      },
      "outputs": [
        {
          "output_type": "execute_result",
          "data": {
            "text/plain": [
              "Canceled    0.972712\n",
              "No-Show     0.027288\n",
              "Name: reservation_status, dtype: float64"
            ]
          },
          "metadata": {},
          "execution_count": 21
        }
      ],
      "source": [
        "plt_data.value_counts(normalize = True)"
      ]
    },
    {
      "cell_type": "markdown",
      "metadata": {
        "id": "ns-cIvTra7de"
      },
      "source": [
        "**Nhận xét**: Phần lớn khách hàng (97%) hủy đặt phòng trước khi nhận phòng"
      ]
    },
    {
      "cell_type": "code",
      "execution_count": null,
      "metadata": {
        "colab": {
          "base_uri": "https://localhost:8080/",
          "height": 350
        },
        "id": "eyoajPE9bSqc",
        "outputId": "aef29c0c-b02b-4ad6-d754-9fe4e7815a90"
      },
      "outputs": [
        {
          "output_type": "display_data",
          "data": {
            "text/plain": [
              "<Figure size 576x360 with 1 Axes>"
            ],
            "image/png": "[encoded data removed]"
          },
          "metadata": {
            "needs_background": "light"
          }
        }
      ],
      "source": [
        "# lead_time vs is_canceled\n",
        "\n",
        "plt.figure(figsize = (8, 5)) \n",
        "plt.title(\"Average Lead Time of Bookings per Status\")\n",
        "sns.barplot(x = hotel_bookings['is_canceled'], y = hotel_bookings['lead_time'], palette = 'Blues')\n",
        "plt.xlabel(\"Booking Status\")\n",
        "plt.ylabel(\"Average Lead Time (days)\")\n",
        "plt.xticks(ticks = [0, 1], labels = ['Not Canceled', 'Canceled']);"
      ]
    },
    {
      "cell_type": "code",
      "execution_count": null,
      "metadata": {
        "colab": {
          "base_uri": "https://localhost:8080/",
          "height": 402
        },
        "id": "baJzMFaJqMZ5",
        "outputId": "10f74d90-47b1-478e-ae9c-800369175dd7"
      },
      "outputs": [
        {
          "output_type": "execute_result",
          "data": {
            "text/plain": [
              "([<matplotlib.axis.XTick at 0x7fa135f7d7d0>,\n",
              "  <matplotlib.axis.XTick at 0x7fa1371b5a10>],\n",
              " [Text(0, 0, 'Not Canceled'), Text(0, 0, 'Canceled')])"
            ]
          },
          "metadata": {},
          "execution_count": 23
        },
        {
          "output_type": "display_data",
          "data": {
            "text/plain": [
              "<Figure size 576x360 with 1 Axes>"
            ],
            "image/png": "[encoded data removed]"
          },
          "metadata": {
            "needs_background": "light"
          }
        }
      ],
      "source": [
        "# total_of_special_requests vs is_canceled\n",
        "\n",
        "plt.figure(figsize=(8,5)) \n",
        "plt.title(\"Average Total Number of Special Requests of Bookings per Status\")\n",
        "sns.barplot(x=hotel_bookings['is_canceled'], y=hotel_bookings['total_of_special_requests'], palette='Blues')\n",
        "plt.xlabel(\"Booking Status\")\n",
        "plt.ylabel(\"Average Total Number of Special Requests\")\n",
        "plt.xticks(ticks=[0, 1], labels=['Not Canceled', 'Canceled'])"
      ]
    },
    {
      "cell_type": "code",
      "execution_count": null,
      "metadata": {
        "colab": {
          "base_uri": "https://localhost:8080/",
          "height": 402
        },
        "id": "bQn7M5mVsv7r",
        "outputId": "47e1e1fc-1f13-44e3-f9c3-ed35b14ac01f"
      },
      "outputs": [
        {
          "output_type": "execute_result",
          "data": {
            "text/plain": [
              "([<matplotlib.axis.XTick at 0x7fa137261650>,\n",
              "  <matplotlib.axis.XTick at 0x7fa136d58e50>],\n",
              " [Text(0, 0, 'Not Canceled'), Text(0, 0, 'Canceled')])"
            ]
          },
          "metadata": {},
          "execution_count": 24
        },
        {
          "output_type": "display_data",
          "data": {
            "text/plain": [
              "<Figure size 576x360 with 1 Axes>"
            ],
            "image/png": "[encoded data removed]"
          },
          "metadata": {
            "needs_background": "light"
          }
        }
      ],
      "source": [
        "# required_car_parking_space vs is_canceled\n",
        "plt.figure(figsize=(8,5)) \n",
        "plt.title(\"Average Number of Car Parking Spaces Required per Status\")\n",
        "sns.barplot(x=hotel_bookings['is_canceled'], y=hotel_bookings['required_car_parking_spaces'], palette='Blues')\n",
        "plt.xlabel(\"Booking Status\")\n",
        "plt.ylabel(\"Average Number of Car Parking Spaces Required\")\n",
        "plt.xticks(ticks=[0, 1], labels=['Not Canceled', 'Canceled'])"
      ]
    },
    {
      "cell_type": "code",
      "execution_count": null,
      "metadata": {
        "colab": {
          "base_uri": "https://localhost:8080/",
          "height": 402
        },
        "id": "TloyfubJ1uRl",
        "outputId": "8515978d-bae2-4b7d-e50a-db229e64a0c1"
      },
      "outputs": [
        {
          "output_type": "execute_result",
          "data": {
            "text/plain": [
              "([<matplotlib.axis.XTick at 0x7fa1371d7350>,\n",
              "  <matplotlib.axis.XTick at 0x7fa136081050>],\n",
              " [Text(0, 0, 'Not Canceled'), Text(0, 0, 'Canceled')])"
            ]
          },
          "metadata": {},
          "execution_count": 25
        },
        {
          "output_type": "display_data",
          "data": {
            "text/plain": [
              "<Figure size 576x360 with 1 Axes>"
            ],
            "image/png": "[encoded data removed]"
          },
          "metadata": {
            "needs_background": "light"
          }
        }
      ],
      "source": [
        "# booking_changes vs is_canceled\n",
        "plt.figure(figsize=(8,5)) \n",
        "plt.title(\"Average Number of Booking Changes per Status\")\n",
        "sns.barplot(x=hotel_bookings['is_canceled'], y=hotel_bookings['booking_changes'], palette='Blues')\n",
        "plt.xlabel(\"Booking Status\")\n",
        "plt.ylabel(\"Average Number of Booking Changes\")\n",
        "plt.xticks(ticks=[0, 1], labels=['Not Canceled', 'Canceled'])"
      ]
    },
    {
      "cell_type": "code",
      "execution_count": null,
      "metadata": {
        "colab": {
          "base_uri": "https://localhost:8080/",
          "height": 367
        },
        "id": "cl89SKVlvFWU",
        "outputId": "e2c20357-2ef3-4c5c-ab4a-0f1ad4211f24"
      },
      "outputs": [
        {
          "output_type": "execute_result",
          "data": {
            "text/plain": [
              "Text(0, 0.5, 'Percentage of Bookings Canceled')"
            ]
          },
          "metadata": {},
          "execution_count": 26
        },
        {
          "output_type": "display_data",
          "data": {
            "text/plain": [
              "<Figure size 720x360 with 1 Axes>"
            ],
            "image/png": "[encoded data removed]"
          },
          "metadata": {
            "needs_background": "light"
          }
        }
      ],
      "source": [
        "# Visualizing percentage of bookings canceled for each room type:\n",
        "plt.figure(figsize=(10,5)) \n",
        "plt.title(\"Percentage of Bookings Canceled for Each Reserved Room Type\")\n",
        "sns.barplot(x=hotel_bookings['reserved_room_type'], y=hotel_bookings['is_canceled'], palette='Blues')\n",
        "plt.xlabel(\"Room Type\")\n",
        "plt.ylabel(\"Percentage of Bookings Canceled\")"
      ]
    },
    {
      "cell_type": "code",
      "execution_count": null,
      "metadata": {
        "colab": {
          "base_uri": "https://localhost:8080/",
          "height": 350
        },
        "id": "FVwqbq1zx1Q5",
        "outputId": "80191cd6-c251-4549-9c58-dcde945d40a4"
      },
      "outputs": [
        {
          "output_type": "display_data",
          "data": {
            "text/plain": [
              "<Figure size 720x360 with 1 Axes>"
            ],
            "image/png": "[encoded data removed]"
          },
          "metadata": {
            "needs_background": "light"
          }
        }
      ],
      "source": [
        "plt.figure(figsize=(10,5)) \n",
        "plt.title(\"Percentage of Bookings Canceled for Each Deposit Type\")\n",
        "sns.barplot(x=hotel_bookings['deposit_type'], y=hotel_bookings['is_canceled'], palette='Blues')\n",
        "plt.xlabel(\"Deposit Type\")\n",
        "plt.ylabel(\"Percentage of Bookings Canceled\");"
      ]
    },
    {
      "cell_type": "code",
      "execution_count": null,
      "metadata": {
        "colab": {
          "base_uri": "https://localhost:8080/",
          "height": 367
        },
        "id": "uz2Rwyg0yAJw",
        "outputId": "41e96006-a040-4041-cfbf-7dcd8cbb644e"
      },
      "outputs": [
        {
          "output_type": "execute_result",
          "data": {
            "text/plain": [
              "Text(0, 0.5, 'Percentage of Bookings Canceled')"
            ]
          },
          "metadata": {},
          "execution_count": 28
        },
        {
          "output_type": "display_data",
          "data": {
            "text/plain": [
              "<Figure size 720x360 with 1 Axes>"
            ],
            "image/png": "[encoded data removed]"
          },
          "metadata": {
            "needs_background": "light"
          }
        }
      ],
      "source": [
        "plt.figure(figsize=(10,5)) \n",
        "plt.title(\"Percentage of Bookings Canceled for Each Customer Type\")\n",
        "sns.barplot(x=hotel_bookings['customer_type'], y=hotel_bookings['is_canceled'], palette='Blues')\n",
        "plt.xlabel(\"Customer Type\")\n",
        "plt.ylabel(\"Percentage of Bookings Canceled\")"
      ]
    },
    {
      "cell_type": "code",
      "execution_count": null,
      "metadata": {
        "id": "nu8zfEId61W_"
      },
      "outputs": [],
      "source": [
        "total_booking_by_country = hotel_bookings.groupby('country')['is_canceled'].count().reset_index()\n",
        "canceled_by_country = hotel_bookings[hotel_bookings['is_canceled'] == 1].groupby('country')['is_canceled'].count().reset_index()\n",
        "not_canceled_by_country = hotel_bookings[hotel_bookings['is_canceled'] == 0].groupby('country')['is_canceled'].count().reset_index()\n",
        "\n",
        "canceled_by_country['is_canceled'] = canceled_by_country['is_canceled']/total_booking_by_country['is_canceled']\n",
        "not_canceled_by_country['is_canceled'] = not_canceled_by_country['is_canceled']/total_booking_by_country['is_canceled']\n",
        "\n",
        "canceled_rate = canceled_by_country.sort_values(ascending = False, by = 'is_canceled').head(5)\n",
        "not_canceled_rate = not_canceled_by_country.sort_values(ascending = False, by = 'is_canceled').head(5)"
      ]
    },
    {
      "cell_type": "code",
      "execution_count": null,
      "metadata": {
        "colab": {
          "base_uri": "https://localhost:8080/",
          "height": 421
        },
        "id": "OokV2CsW_1st",
        "outputId": "1f01f4e6-bb02-43f7-a4d2-c7f409edc5e0"
      },
      "outputs": [
        {
          "output_type": "execute_result",
          "data": {
            "text/plain": [
              "Text(0, 0.5, 'Total Number of Bookings')"
            ]
          },
          "metadata": {},
          "execution_count": 30
        },
        {
          "output_type": "display_data",
          "data": {
            "text/plain": [
              "<Figure size 1296x432 with 1 Axes>"
            ],
            "image/png": "[encoded data removed]"
          },
          "metadata": {
            "needs_background": "light"
          }
        }
      ],
      "source": [
        "total_booking_by_country = total_booking_by_country.sort_values(ascending = False, by = 'is_canceled').head(10)\n",
        "\n",
        "plt.figure(figsize = (18, 6))\n",
        "sns.barplot(x = total_booking_by_country['country'], y = total_booking_by_country['is_canceled'], palette = 'Blues')\n",
        "plt.title('Top 10 Total Number of Bookings by Country')\n",
        "plt.xlabel('Country')\n",
        "plt.ylabel('Total Number of Bookings')"
      ]
    },
    {
      "cell_type": "code",
      "execution_count": null,
      "metadata": {
        "colab": {
          "base_uri": "https://localhost:8080/",
          "height": 367
        },
        "id": "5hKDFh0o9b6K",
        "outputId": "9d92ff14-34fe-4fde-df07-71cea33fad04"
      },
      "outputs": [
        {
          "output_type": "execute_result",
          "data": {
            "text/plain": [
              "Text(0, 0.5, 'Percentage of Canceled Bookings')"
            ]
          },
          "metadata": {},
          "execution_count": 31
        },
        {
          "output_type": "display_data",
          "data": {
            "text/plain": [
              "<Figure size 576x360 with 1 Axes>"
            ],
            "image/png": "[encoded data removed]"
          },
          "metadata": {
            "needs_background": "light"
          }
        }
      ],
      "source": [
        "plt.figure(figsize = (8, 5))\n",
        "sns.barplot(x = canceled_rate['country'], y = canceled_rate['is_canceled'], palette = 'Blues')\n",
        "plt.title('Top 5 Canceled Bookings Rate by Country')\n",
        "plt.xlabel('Country')\n",
        "plt.ylabel('Percentage of Canceled Bookings')"
      ]
    },
    {
      "cell_type": "code",
      "execution_count": null,
      "metadata": {
        "colab": {
          "base_uri": "https://localhost:8080/",
          "height": 367
        },
        "id": "TQABHga592e8",
        "outputId": "cafdae6c-3079-4171-e4a1-17a10f31ba72"
      },
      "outputs": [
        {
          "output_type": "execute_result",
          "data": {
            "text/plain": [
              "Text(0, 0.5, 'Percentage of Non-Canceled Bookings')"
            ]
          },
          "metadata": {},
          "execution_count": 32
        },
        {
          "output_type": "display_data",
          "data": {
            "text/plain": [
              "<Figure size 576x360 with 1 Axes>"
            ],
            "image/png": "[encoded data removed]"
          },
          "metadata": {
            "needs_background": "light"
          }
        }
      ],
      "source": [
        "plt.figure(figsize = (8, 5))\n",
        "sns.barplot(x = not_canceled_rate['country'], y = not_canceled_rate['is_canceled'], palette = 'Blues')\n",
        "plt.title('Top 5 Non-Canceled Bookings Rate by Country')\n",
        "plt.xlabel('Country')\n",
        "plt.ylabel('Percentage of Non-Canceled Bookings')"
      ]
    },
    {
      "cell_type": "code",
      "execution_count": null,
      "metadata": {
        "colab": {
          "base_uri": "https://localhost:8080/",
          "height": 350
        },
        "id": "R_E4i9dttRwJ",
        "outputId": "a3554cfd-ccef-4a2f-f649-f02a7bb6cc1d"
      },
      "outputs": [
        {
          "output_type": "display_data",
          "data": {
            "text/plain": [
              "<Figure size 720x360 with 1 Axes>"
            ],
            "image/png": "[encoded data removed]"
          },
          "metadata": {
            "needs_background": "light"
          }
        }
      ],
      "source": [
        "# data hủy đặt phòng\n",
        "canceled = hotel_bookings[hotel_bookings['is_canceled']==1][['arrival_date']]\n",
        "canceled.set_index('arrival_date', inplace=True)\n",
        "canceled['count'] = 1\n",
        "canceled=canceled.resample('M').sum()\n",
        "\n",
        "# data không hủy đặt phòng\n",
        "not_canceled = hotel_bookings[hotel_bookings['is_canceled']==0][['arrival_date']]\n",
        "not_canceled.set_index('arrival_date', inplace=True)\n",
        "not_canceled['count'] = 1\n",
        "not_canceled=not_canceled.resample('M').sum()\n",
        "\n",
        "plt.figure(figsize=(10,5))\n",
        "sns.lineplot(x=canceled.index, y=canceled['count'], color='#b3cede')\n",
        "sns.lineplot(x=not_canceled.index, y=not_canceled['count'], color='#4884af')\n",
        "plt.ylabel('Number of Bookings')\n",
        "plt.xlabel('Arrival Date')\n",
        "plt.title('Number of Bookings by Date')\n",
        "plt.legend(['canceled', 'not canceled']);"
      ]
    },
    {
      "cell_type": "markdown",
      "source": [
        "## --"
      ],
      "metadata": {
        "id": "mhvYHvaq_fx8"
      }
    },
    {
      "cell_type": "code",
      "source": [
        "lr_time_1 = []\n",
        "knn_time_1 = []\n",
        "tree_time_1 = []\n",
        "nn_time_1 = []\n",
        "lr_time_2 = []\n",
        "knn_time_2 = []\n",
        "tree_time_2 = []\n",
        "nn_time_2 = []\n",
        "lr_time_rest = []\n",
        "knn_time_rest = []\n",
        "tree_time_rest = []\n",
        "nn_time_rest = []"
      ],
      "metadata": {
        "id": "qUqd9WGi_iPV"
      },
      "execution_count": null,
      "outputs": []
    },
    {
      "cell_type": "markdown",
      "metadata": {
        "id": "kc1sinBBzkUX"
      },
      "source": [
        "## Huấn luyện mô hình lần 1"
      ]
    },
    {
      "cell_type": "markdown",
      "metadata": {
        "id": "SLFQnVoszb3f"
      },
      "source": [
        "### Chuẩn bị dữ liệu chạy model"
      ]
    },
    {
      "cell_type": "code",
      "execution_count": null,
      "metadata": {
        "id": "a56-pxSlzbXu"
      },
      "outputs": [],
      "source": [
        "data_dum = pd.get_dummies(hotel_bookings, columns = ['hotel', 'arrival_date_month', 'meal', 'market_segment', 'distribution_channel', 'country', 'reserved_room_type', 'assigned_room_type', 'deposit_type', 'customer_type'])\n",
        "\n",
        "X = data_dum.drop(columns=['is_canceled','reservation_status', 'agent', 'company', 'reservation_status_date', 'arrival_date'])\n",
        "y = data_dum['is_canceled']\n",
        "\n",
        "X_train_1, X_test_1, y_train_1, y_test_1 = train_test_split(X, y, random_state = 42, stratify=y, test_size = 0.2)"
      ]
    },
    {
      "cell_type": "code",
      "execution_count": null,
      "metadata": {
        "id": "1gaOnhrZIuea"
      },
      "outputs": [],
      "source": [
        "pipeline = Pipeline([\n",
        "            ('std_scaler',StandardScaler()),\n",
        "                    ])\n",
        "scaled_X_train_1 = pipeline.fit_transform(X_train_1)\n",
        "scaled_X_test_1 = pipeline.fit_transform(X_test_1)"
      ]
    },
    {
      "cell_type": "markdown",
      "metadata": {
        "id": "X2uOfCxozn5u"
      },
      "source": [
        "### Logistic Regression"
      ]
    },
    {
      "cell_type": "code",
      "execution_count": null,
      "metadata": {
        "colab": {
          "base_uri": "https://localhost:8080/"
        },
        "id": "OWT2oXWgqCU8",
        "outputId": "55bd84be-829c-4215-cac5-da38ec773baf"
      },
      "outputs": [
        {
          "output_type": "stream",
          "name": "stdout",
          "text": [
            "Logistic Regression training time: 5.254441261291504s\n"
          ]
        },
        {
          "output_type": "stream",
          "name": "stderr",
          "text": [
            "/usr/local/lib/python3.7/dist-packages/sklearn/linear_model/_logistic.py:818: ConvergenceWarning: lbfgs failed to converge (status=1):\n",
            "STOP: TOTAL NO. of ITERATIONS REACHED LIMIT.\n",
            "\n",
            "Increase the number of iterations (max_iter) or scale the data as shown in:\n",
            "    https://scikit-learn.org/stable/modules/preprocessing.html\n",
            "Please also refer to the documentation for alternative solver options:\n",
            "    https://scikit-learn.org/stable/modules/linear_model.html#logistic-regression\n",
            "  extra_warning_msg=_LOGISTIC_SOLVER_CONVERGENCE_MSG,\n"
          ]
        }
      ],
      "source": [
        "model_logistic = LogisticRegression()\n",
        "start = time.time()\n",
        "model_logistic.fit(scaled_X_train_1, y_train_1)\n",
        "stop = time.time()\n",
        "lr_time_1.append(stop - start)\n",
        "print(f\"Logistic Regression training time: {stop - start}s\")"
      ]
    },
    {
      "cell_type": "code",
      "execution_count": null,
      "metadata": {
        "colab": {
          "base_uri": "https://localhost:8080/"
        },
        "id": "uDg7dr5FrF2H",
        "outputId": "db3f8f2c-fc66-4386-c3f0-3537df9bf246"
      },
      "outputs": [
        {
          "output_type": "stream",
          "name": "stderr",
          "text": [
            "/usr/local/lib/python3.7/dist-packages/sklearn/linear_model/_logistic.py:818: ConvergenceWarning: lbfgs failed to converge (status=1):\n",
            "STOP: TOTAL NO. of ITERATIONS REACHED LIMIT.\n",
            "\n",
            "Increase the number of iterations (max_iter) or scale the data as shown in:\n",
            "    https://scikit-learn.org/stable/modules/preprocessing.html\n",
            "Please also refer to the documentation for alternative solver options:\n",
            "    https://scikit-learn.org/stable/modules/linear_model.html#logistic-regression\n",
            "  extra_warning_msg=_LOGISTIC_SOLVER_CONVERGENCE_MSG,\n",
            "/usr/local/lib/python3.7/dist-packages/sklearn/linear_model/_logistic.py:818: ConvergenceWarning: lbfgs failed to converge (status=1):\n",
            "STOP: TOTAL NO. of ITERATIONS REACHED LIMIT.\n",
            "\n",
            "Increase the number of iterations (max_iter) or scale the data as shown in:\n",
            "    https://scikit-learn.org/stable/modules/preprocessing.html\n",
            "Please also refer to the documentation for alternative solver options:\n",
            "    https://scikit-learn.org/stable/modules/linear_model.html#logistic-regression\n",
            "  extra_warning_msg=_LOGISTIC_SOLVER_CONVERGENCE_MSG,\n",
            "/usr/local/lib/python3.7/dist-packages/sklearn/linear_model/_logistic.py:818: ConvergenceWarning: lbfgs failed to converge (status=1):\n",
            "STOP: TOTAL NO. of ITERATIONS REACHED LIMIT.\n",
            "\n",
            "Increase the number of iterations (max_iter) or scale the data as shown in:\n",
            "    https://scikit-learn.org/stable/modules/preprocessing.html\n",
            "Please also refer to the documentation for alternative solver options:\n",
            "    https://scikit-learn.org/stable/modules/linear_model.html#logistic-regression\n",
            "  extra_warning_msg=_LOGISTIC_SOLVER_CONVERGENCE_MSG,\n",
            "/usr/local/lib/python3.7/dist-packages/sklearn/linear_model/_logistic.py:818: ConvergenceWarning: lbfgs failed to converge (status=1):\n",
            "STOP: TOTAL NO. of ITERATIONS REACHED LIMIT.\n",
            "\n",
            "Increase the number of iterations (max_iter) or scale the data as shown in:\n",
            "    https://scikit-learn.org/stable/modules/preprocessing.html\n",
            "Please also refer to the documentation for alternative solver options:\n",
            "    https://scikit-learn.org/stable/modules/linear_model.html#logistic-regression\n",
            "  extra_warning_msg=_LOGISTIC_SOLVER_CONVERGENCE_MSG,\n",
            "/usr/local/lib/python3.7/dist-packages/sklearn/linear_model/_logistic.py:818: ConvergenceWarning: lbfgs failed to converge (status=1):\n",
            "STOP: TOTAL NO. of ITERATIONS REACHED LIMIT.\n",
            "\n",
            "Increase the number of iterations (max_iter) or scale the data as shown in:\n",
            "    https://scikit-learn.org/stable/modules/preprocessing.html\n",
            "Please also refer to the documentation for alternative solver options:\n",
            "    https://scikit-learn.org/stable/modules/linear_model.html#logistic-regression\n",
            "  extra_warning_msg=_LOGISTIC_SOLVER_CONVERGENCE_MSG,\n"
          ]
        },
        {
          "output_type": "execute_result",
          "data": {
            "text/plain": [
              "0.7968519401510619"
            ]
          },
          "metadata": {},
          "execution_count": 42
        }
      ],
      "source": [
        "lr_acc_1 = cross_val_score(model_logistic, scaled_X_train_1, y_train_1, scoring = 'f1_macro', cv=5).mean()\n",
        "lr_acc_1"
      ]
    },
    {
      "cell_type": "markdown",
      "metadata": {
        "id": "hsSrj4q0zqlf"
      },
      "source": [
        "###  K-nearest neighbors"
      ]
    },
    {
      "cell_type": "code",
      "execution_count": null,
      "metadata": {
        "id": "TspVjNxmlCif",
        "colab": {
          "base_uri": "https://localhost:8080/"
        },
        "outputId": "4d1dbb30-33df-4cd1-8d62-c0a906893bfb"
      },
      "outputs": [
        {
          "output_type": "stream",
          "name": "stdout",
          "text": [
            "K-Nearest Neighbors training time: 0.03225088119506836s\n"
          ]
        }
      ],
      "source": [
        "# huấn luyện mô hình KNN thuần túy\n",
        "knn = KNeighborsClassifier()\n",
        "start = time.time()\n",
        "knn.fit(scaled_X_train_1, y_train_1)\n",
        "stop = time.time()\n",
        "knn_time_1.append(stop - start)\n",
        "print(f\"K-Nearest Neighbors training time: {stop - start}s\")"
      ]
    },
    {
      "cell_type": "code",
      "execution_count": null,
      "metadata": {
        "colab": {
          "base_uri": "https://localhost:8080/"
        },
        "id": "LMP17TlnlUnr",
        "outputId": "be45c07b-8547-425c-cf32-afa0dd15d4d1"
      },
      "outputs": [
        {
          "output_type": "execute_result",
          "data": {
            "text/plain": [
              "0.8186194535519563"
            ]
          },
          "metadata": {},
          "execution_count": 48
        }
      ],
      "source": [
        "# Đánh giá trên tập train\n",
        "knn_acc_1 = cross_val_score(knn, scaled_X_train_1, y_train_1, scoring = 'f1_macro', cv=5).mean()\n",
        "knn_acc_1"
      ]
    },
    {
      "cell_type": "markdown",
      "metadata": {
        "id": "3mSfnM2azt3f"
      },
      "source": [
        "### Decision Tree"
      ]
    },
    {
      "cell_type": "code",
      "execution_count": null,
      "metadata": {
        "colab": {
          "base_uri": "https://localhost:8080/"
        },
        "id": "-ipDo3MHDy2S",
        "outputId": "c7308135-040c-44d3-9f76-0e7a1720de77"
      },
      "outputs": [
        {
          "output_type": "stream",
          "name": "stdout",
          "text": [
            "Decision Tree training time: 3.556441307067871s\n"
          ]
        }
      ],
      "source": [
        "tree_clf = DecisionTreeClassifier(random_state = 20)\n",
        "start = time.time()\n",
        "tree_clf.fit(scaled_X_train_1, y_train_1)\n",
        "stop = time.time()\n",
        "tree_time_1.append(stop - start)\n",
        "print(f\"Decision Tree training time: {stop - start}s\")"
      ]
    },
    {
      "cell_type": "code",
      "execution_count": null,
      "metadata": {
        "colab": {
          "base_uri": "https://localhost:8080/"
        },
        "id": "5ucv2t-wFboW",
        "outputId": "d969998c-40c4-4f32-b792-9b1fa30f9132"
      },
      "outputs": [
        {
          "output_type": "execute_result",
          "data": {
            "text/plain": [
              "0.9271916015501557"
            ]
          },
          "metadata": {},
          "execution_count": 54
        }
      ],
      "source": [
        "tree_acc_1 = cross_val_score(tree_clf, scaled_X_train_1, y_train_1, scoring = 'f1_macro', cv = 5).mean()\n",
        "tree_acc_1"
      ]
    },
    {
      "cell_type": "markdown",
      "source": [
        "### Neural Networks"
      ],
      "metadata": {
        "id": "yC9W5LXFsA4b"
      }
    },
    {
      "cell_type": "code",
      "execution_count": null,
      "metadata": {
        "colab": {
          "base_uri": "https://localhost:8080/"
        },
        "outputId": "9025129b-97f6-43a6-d390-d724da02f396",
        "id": "cNV52_cvsQSP"
      },
      "outputs": [
        {
          "output_type": "stream",
          "name": "stdout",
          "text": [
            "Neural Network training time: 316.4924738407135s\n"
          ]
        }
      ],
      "source": [
        "model_neural = MLPClassifier(random_state=20, max_iter=500)\n",
        "start = time.time()\n",
        "model_neural.fit(scaled_X_train_1, y_train_1)\n",
        "stop = time.time()\n",
        "nn_time_1.append(stop - start)\n",
        "print(f\"Neural Network training time: {stop - start}s\")"
      ]
    },
    {
      "cell_type": "code",
      "execution_count": null,
      "metadata": {
        "colab": {
          "base_uri": "https://localhost:8080/"
        },
        "outputId": "abcd9e68-bfac-41a1-f0ae-5a0ce6f61da8",
        "id": "Ep-3xmAjsQSQ"
      },
      "outputs": [
        {
          "output_type": "execute_result",
          "data": {
            "text/plain": [
              "0.9607492222502453"
            ]
          },
          "metadata": {},
          "execution_count": 60
        }
      ],
      "source": [
        "nn_acc_1 = cross_val_score(model_neural, scaled_X_train_1, y_train_1, scoring = 'f1_macro', cv = 5).mean()\n",
        "nn_acc_1"
      ]
    },
    {
      "cell_type": "markdown",
      "metadata": {
        "id": "TtSOiSiBz5UW"
      },
      "source": [
        "## Huấn luyện mô hình lần 2"
      ]
    },
    {
      "cell_type": "markdown",
      "metadata": {
        "id": "h3mNPPOZgNYz"
      },
      "source": [
        "### Chọn ra thuộc tính quan trọng bằng phương pháp Random Forest Importance"
      ]
    },
    {
      "cell_type": "code",
      "execution_count": null,
      "metadata": {
        "id": "COXDc7afgs4c"
      },
      "outputs": [],
      "source": [
        "model = RandomForestClassifier()\n",
        "model.fit(X, y)\n",
        "importances = model.feature_importances_\n",
        "\n",
        "final_df = pd.DataFrame({'Features': pd.DataFrame(X).columns, 'Importances': importances})\n",
        "#final_df.set_index('Importances')\n",
        "\n",
        "final_df = final_df.sort_values('Importances').tail(30)"
      ]
    },
    {
      "cell_type": "code",
      "source": [
        "final_df.tail(10)"
      ],
      "metadata": {
        "colab": {
          "base_uri": "https://localhost:8080/",
          "height": 363
        },
        "id": "kMaUE9lMjHYT",
        "outputId": "2167931b-5b4c-4495-b01b-2395a7f1647e"
      },
      "execution_count": null,
      "outputs": [
        {
          "output_type": "execute_result",
          "data": {
            "text/plain": [
              "                      Features  Importances\n",
              "3    arrival_date_day_of_month     0.034310\n",
              "19             price_per_guest     0.043134\n",
              "14                         adr     0.045246\n",
              "16   total_of_special_requests     0.046074\n",
              "5         stays_in_week_nights     0.049168\n",
              "250    deposit_type_Non Refund     0.050479\n",
              "186                country_PRT     0.058496\n",
              "249    deposit_type_No Deposit     0.067821\n",
              "0                    lead_time     0.086364\n",
              "17   status_minus_arrival_date     0.108952"
            ],
            "text/html": [
              "\n",
              "  <div id=\"df-2d1fbf41-4f94-47a8-9363-475f62d4236c\">\n",
              "    <div class=\"colab-df-container\">\n",
              "      <div>\n",
              "<style scoped>\n",
              "    .dataframe tbody tr th:only-of-type {\n",
              "        vertical-align: middle;\n",
              "    }\n",
              "\n",
              "    .dataframe tbody tr th {\n",
              "        vertical-align: top;\n",
              "    }\n",
              "\n",
              "    .dataframe thead th {\n",
              "        text-align: right;\n",
              "    }\n",
              "</style>\n",
              "<table border=\"1\" class=\"dataframe\">\n",
              "  <thead>\n",
              "    <tr style=\"text-align: right;\">\n",
              "      <th></th>\n",
              "      <th>Features</th>\n",
              "      <th>Importances</th>\n",
              "    </tr>\n",
              "  </thead>\n",
              "  <tbody>\n",
              "    <tr>\n",
              "      <th>3</th>\n",
              "      <td>arrival_date_day_of_month</td>\n",
              "      <td>0.034310</td>\n",
              "    </tr>\n",
              "    <tr>\n",
              "      <th>19</th>\n",
              "      <td>price_per_guest</td>\n",
              "      <td>0.043134</td>\n",
              "    </tr>\n",
              "    <tr>\n",
              "      <th>14</th>\n",
              "      <td>adr</td>\n",
              "      <td>0.045246</td>\n",
              "    </tr>\n",
              "    <tr>\n",
              "      <th>16</th>\n",
              "      <td>total_of_special_requests</td>\n",
              "      <td>0.046074</td>\n",
              "    </tr>\n",
              "    <tr>\n",
              "      <th>5</th>\n",
              "      <td>stays_in_week_nights</td>\n",
              "      <td>0.049168</td>\n",
              "    </tr>\n",
              "    <tr>\n",
              "      <th>250</th>\n",
              "      <td>deposit_type_Non Refund</td>\n",
              "      <td>0.050479</td>\n",
              "    </tr>\n",
              "    <tr>\n",
              "      <th>186</th>\n",
              "      <td>country_PRT</td>\n",
              "      <td>0.058496</td>\n",
              "    </tr>\n",
              "    <tr>\n",
              "      <th>249</th>\n",
              "      <td>deposit_type_No Deposit</td>\n",
              "      <td>0.067821</td>\n",
              "    </tr>\n",
              "    <tr>\n",
              "      <th>0</th>\n",
              "      <td>lead_time</td>\n",
              "      <td>0.086364</td>\n",
              "    </tr>\n",
              "    <tr>\n",
              "      <th>17</th>\n",
              "      <td>status_minus_arrival_date</td>\n",
              "      <td>0.108952</td>\n",
              "    </tr>\n",
              "  </tbody>\n",
              "</table>\n",
              "</div>\n",
              "      <button class=\"colab-df-convert\" onclick=\"convertToInteractive('df-2d1fbf41-4f94-47a8-9363-475f62d4236c')\"\n",
              "              title=\"Convert this dataframe to an interactive table.\"\n",
              "              style=\"display:none;\">\n",
              "        \n",
              "  <svg xmlns=\"http://www.w3.org/2000/svg\" height=\"24px\"viewBox=\"0 0 24 24\"\n",
              "       width=\"24px\">\n",
              "    <path d=\"M0 0h24v24H0V0z\" fill=\"none\"/>\n",
              "    <path d=\"M18.56 5.44l.94 2.06.94-2.06 2.06-.94-2.06-.94-.94-2.06-.94 2.06-2.06.94zm-11 1L8.5 8.5l.94-2.06 2.06-.94-2.06-.94L8.5 2.5l-.94 2.06-2.06.94zm10 10l.94 2.06.94-2.06 2.06-.94-2.06-.94-.94-2.06-.94 2.06-2.06.94z\"/><path d=\"M17.41 7.96l-1.37-1.37c-.4-.4-.92-.59-1.43-.59-.52 0-1.04.2-1.43.59L10.3 9.45l-7.72 7.72c-.78.78-.78 2.05 0 2.83L4 21.41c.39.39.9.59 1.41.59.51 0 1.02-.2 1.41-.59l7.78-7.78 2.81-2.81c.8-.78.8-2.07 0-2.86zM5.41 20L4 18.59l7.72-7.72 1.47 1.35L5.41 20z\"/>\n",
              "  </svg>\n",
              "      </button>\n",
              "      \n",
              "  <style>\n",
              "    .colab-df-container {\n",
              "      display:flex;\n",
              "      flex-wrap:wrap;\n",
              "      gap: 12px;\n",
              "    }\n",
              "\n",
              "    .colab-df-convert {\n",
              "      background-color: #E8F0FE;\n",
              "      border: none;\n",
              "      border-radius: 50%;\n",
              "      cursor: pointer;\n",
              "      display: none;\n",
              "      fill: #1967D2;\n",
              "      height: 32px;\n",
              "      padding: 0 0 0 0;\n",
              "      width: 32px;\n",
              "    }\n",
              "\n",
              "    .colab-df-convert:hover {\n",
              "      background-color: #E2EBFA;\n",
              "      box-shadow: 0px 1px 2px rgba(60, 64, 67, 0.3), 0px 1px 3px 1px rgba(60, 64, 67, 0.15);\n",
              "      fill: #174EA6;\n",
              "    }\n",
              "\n",
              "    [theme=dark] .colab-df-convert {\n",
              "      background-color: #3B4455;\n",
              "      fill: #D2E3FC;\n",
              "    }\n",
              "\n",
              "    [theme=dark] .colab-df-convert:hover {\n",
              "      background-color: #434B5C;\n",
              "      box-shadow: 0px 1px 3px 1px rgba(0, 0, 0, 0.15);\n",
              "      filter: drop-shadow(0px 1px 2px rgba(0, 0, 0, 0.3));\n",
              "      fill: #FFFFFF;\n",
              "    }\n",
              "  </style>\n",
              "\n",
              "      <script>\n",
              "        const buttonEl =\n",
              "          document.querySelector('#df-2d1fbf41-4f94-47a8-9363-475f62d4236c button.colab-df-convert');\n",
              "        buttonEl.style.display =\n",
              "          google.colab.kernel.accessAllowed ? 'block' : 'none';\n",
              "\n",
              "        async function convertToInteractive(key) {\n",
              "          const element = document.querySelector('#df-2d1fbf41-4f94-47a8-9363-475f62d4236c');\n",
              "          const dataTable =\n",
              "            await google.colab.kernel.invokeFunction('convertToInteractive',\n",
              "                                                     [key], {});\n",
              "          if (!dataTable) return;\n",
              "\n",
              "          const docLinkHtml = 'Like what you see? Visit the ' +\n",
              "            '<a target=\"_blank\" href=https://colab.research.google.com/notebooks/data_table.ipynb>data table notebook</a>'\n",
              "            + ' to learn more about interactive tables.';\n",
              "          element.innerHTML = '';\n",
              "          dataTable['output_type'] = 'display_data';\n",
              "          await google.colab.output.renderOutput(dataTable, element);\n",
              "          const docLink = document.createElement('div');\n",
              "          docLink.innerHTML = docLinkHtml;\n",
              "          element.appendChild(docLink);\n",
              "        }\n",
              "      </script>\n",
              "    </div>\n",
              "  </div>\n",
              "  "
            ]
          },
          "metadata": {},
          "execution_count": 137
        }
      ]
    },
    {
      "cell_type": "code",
      "execution_count": null,
      "metadata": {
        "colab": {
          "base_uri": "https://localhost:8080/",
          "height": 514
        },
        "id": "m_fxPOT1g3tL",
        "outputId": "7d9a8896-0fc2-4484-ddd7-995bb124253b"
      },
      "outputs": [
        {
          "output_type": "execute_result",
          "data": {
            "text/plain": [
              "<matplotlib.axes._subplots.AxesSubplot at 0x7fa1370b70d0>"
            ]
          },
          "metadata": {},
          "execution_count": 62
        },
        {
          "output_type": "display_data",
          "data": {
            "text/plain": [
              "<Figure size 864x576 with 1 Axes>"
            ],
            "image/png": "[encoded data removed]"
          },
          "metadata": {
            "needs_background": "light"
          }
        }
      ],
      "source": [
        "plt.figure(figsize = (12, 8))\n",
        "df = final_df.tail(10)\n",
        "sns.barplot(x = df['Importances'], y = df['Features'], palette = 'Blues', orient = 'h')"
      ]
    },
    {
      "cell_type": "code",
      "execution_count": null,
      "metadata": {
        "id": "WhzbUWrzg9Fa"
      },
      "outputs": [],
      "source": [
        "selected_columns = np.array(final_df['Features'])\n",
        "\n",
        "X_rest = X.drop(selected_columns, axis = 1)\n",
        "X = X[selected_columns]\n",
        "#X_rest = X_rest.drop(['is_canceled','reservation_status', 'agent', 'company', 'reservation_status_date', 'arrival_date'], axis = 1)"
      ]
    },
    {
      "cell_type": "markdown",
      "metadata": {
        "id": "w0fX2ImlbAWS"
      },
      "source": [
        "### Chuẩn bị dữ liệu"
      ]
    },
    {
      "cell_type": "code",
      "execution_count": null,
      "metadata": {
        "id": "dtCIpd3LbDji"
      },
      "outputs": [],
      "source": [
        "X_train_2, X_test_2, y_train_2, y_test_2 = train_test_split(X, y, random_state = 42, stratify=y, test_size = 0.2)\n",
        "X_rest_train, X_rest_test, y_rest_train, y__rest_test = train_test_split(X_rest, y, random_state = 42, stratify=y, test_size = 0.2)"
      ]
    },
    {
      "cell_type": "code",
      "execution_count": null,
      "metadata": {
        "id": "0zHEVoNrKDzY"
      },
      "outputs": [],
      "source": [
        "pipeline = Pipeline([\n",
        "            ('std_scaler',StandardScaler()),\n",
        "                    ])\n",
        "scaled_X_train_2 = pipeline.fit_transform(X_train_2)\n",
        "scaled_X_test_2 = pipeline.fit_transform(X_test_2)\n",
        "\n",
        "scaled_X_rest_train = pipeline.fit_transform(X_rest_train)\n",
        "scaled_X_rest_test = pipeline.fit_transform(X_rest_test)"
      ]
    },
    {
      "cell_type": "markdown",
      "metadata": {
        "id": "HG2IbVtMz5UX"
      },
      "source": [
        "### Logistic Regression"
      ]
    },
    {
      "cell_type": "markdown",
      "metadata": {
        "id": "9C2bg06Gakzw"
      },
      "source": [
        "- Chạy mô hình trên các thuộc tính quan trọng"
      ]
    },
    {
      "cell_type": "code",
      "execution_count": null,
      "metadata": {
        "colab": {
          "base_uri": "https://localhost:8080/"
        },
        "id": "sz9_d3n2jXL9",
        "outputId": "500bf49e-2c1a-4cca-f571-0fd77e9f396c"
      },
      "outputs": [
        {
          "output_type": "stream",
          "name": "stdout",
          "text": [
            "Logistic Regression training time: 2.9919886589050293s\n"
          ]
        }
      ],
      "source": [
        "model_logistic = LogisticRegression(solver='liblinear')\n",
        "start = time.time()\n",
        "model_logistic.fit(scaled_X_train_2, y_train_2)\n",
        "stop = time.time()\n",
        "lr_time_2.append(stop - start)\n",
        "print(f\"Logistic Regression training time: {stop - start}s\")"
      ]
    },
    {
      "cell_type": "code",
      "execution_count": null,
      "metadata": {
        "colab": {
          "base_uri": "https://localhost:8080/"
        },
        "id": "18s5-DZqjpau",
        "outputId": "ef19cbc4-b93c-4321-c5ed-285773156d1d"
      },
      "outputs": [
        {
          "output_type": "execute_result",
          "data": {
            "text/plain": [
              "0.7771944028913637"
            ]
          },
          "metadata": {},
          "execution_count": 71
        }
      ],
      "source": [
        "lr_acc_2 = cross_val_score(model_logistic, scaled_X_train_2, y_train_2, scoring = 'f1_macro', cv=5).mean()\n",
        "lr_acc_2"
      ]
    },
    {
      "cell_type": "markdown",
      "metadata": {
        "id": "CAKYBLRfbXAx"
      },
      "source": [
        "- Chạy mô hình trên các thuộc tính còn lại"
      ]
    },
    {
      "cell_type": "code",
      "execution_count": null,
      "metadata": {
        "colab": {
          "base_uri": "https://localhost:8080/"
        },
        "id": "Pt0GDtq1bZh9",
        "outputId": "694c72c9-beaf-4e6e-aca0-81378343cc30"
      },
      "outputs": [
        {
          "output_type": "stream",
          "name": "stdout",
          "text": [
            "Logistic Regression training time: 12.274916172027588s\n"
          ]
        }
      ],
      "source": [
        "model_logistic_rest = LogisticRegression(solver='liblinear')\n",
        "start = time.time()\n",
        "model_logistic_rest.fit(scaled_X_rest_train, y_rest_train)\n",
        "stop = time.time()\n",
        "lr_time_rest.append(stop - start)\n",
        "print(f\"Logistic Regression training time: {stop - start}s\")"
      ]
    },
    {
      "cell_type": "code",
      "execution_count": null,
      "metadata": {
        "colab": {
          "base_uri": "https://localhost:8080/"
        },
        "id": "1mlzKg6Ebcek",
        "outputId": "ff3df6ad-1809-47d8-887a-5512bbbc57c5"
      },
      "outputs": [
        {
          "output_type": "execute_result",
          "data": {
            "text/plain": [
              "0.6513134161241765"
            ]
          },
          "metadata": {},
          "execution_count": 78
        }
      ],
      "source": [
        "lr_acc_rest = cross_val_score(model_logistic_rest, scaled_X_rest_train, y_rest_train, scoring = 'f1_macro', cv=5).mean()\n",
        "lr_acc_rest"
      ]
    },
    {
      "cell_type": "markdown",
      "metadata": {
        "id": "sLkrgPq9z5UX"
      },
      "source": [
        "### K-nearest Neighbors"
      ]
    },
    {
      "cell_type": "markdown",
      "metadata": {
        "id": "HL8GoUhpE8yn"
      },
      "source": [
        "- Chạy mô hình trên các thuộc tính quan trọng"
      ]
    },
    {
      "cell_type": "code",
      "execution_count": null,
      "metadata": {
        "colab": {
          "base_uri": "https://localhost:8080/"
        },
        "id": "cJ2H0uJOz5UX",
        "outputId": "5b35fd87-4e12-4b0b-a90a-c095f4a68f2a"
      },
      "outputs": [
        {
          "output_type": "stream",
          "name": "stdout",
          "text": [
            "K-Nearest Neighbors training time: 0.013478755950927734s\n"
          ]
        }
      ],
      "source": [
        "knn_lan2 = KNeighborsClassifier()\n",
        "start = time.time()\n",
        "knn_lan2.fit(scaled_X_train_2, y_train_2)\n",
        "stop = time.time()\n",
        "knn_time_2.append(stop - start)\n",
        "print(f\"K-Nearest Neighbors training time: {stop - start}s\")"
      ]
    },
    {
      "cell_type": "code",
      "execution_count": null,
      "metadata": {
        "colab": {
          "base_uri": "https://localhost:8080/"
        },
        "id": "dmzrb6EDueum",
        "outputId": "eab67255-72bc-4d96-fb76-3e6646e31c41"
      },
      "outputs": [
        {
          "output_type": "execute_result",
          "data": {
            "text/plain": [
              "0.8720877963811284"
            ]
          },
          "metadata": {},
          "execution_count": 84
        }
      ],
      "source": [
        "# đánh giá dữ liệu trên tập train dựa vào k-fold cross\n",
        "knn_acc_2 = cross_val_score(knn_lan2, scaled_X_train_2, y_train_2, scoring = 'f1_macro', cv=5).mean()\n",
        "knn_acc_2"
      ]
    },
    {
      "cell_type": "markdown",
      "metadata": {
        "id": "50zuD7mnFEaB"
      },
      "source": [
        "- Chạy mô hình trên các thuộc tính còn lại"
      ]
    },
    {
      "cell_type": "code",
      "execution_count": null,
      "metadata": {
        "colab": {
          "base_uri": "https://localhost:8080/"
        },
        "id": "vSyCi6PTFLsG",
        "outputId": "e7df546a-4241-43c9-9363-3b2de7bf8971"
      },
      "outputs": [
        {
          "output_type": "stream",
          "name": "stdout",
          "text": [
            "K-Nearest Neighbors training time: 0.024804115295410156s\n"
          ]
        }
      ],
      "source": [
        "knn_lan2_rest = KNeighborsClassifier()\n",
        "start = time.time()\n",
        "knn_lan2_rest.fit(scaled_X_rest_train, y_rest_train)\n",
        "stop = time.time()\n",
        "knn_time_rest.append(stop - start)\n",
        "print(f\"K-Nearest Neighbors training time: {stop - start}s\")"
      ]
    },
    {
      "cell_type": "code",
      "execution_count": null,
      "metadata": {
        "colab": {
          "base_uri": "https://localhost:8080/"
        },
        "id": "6OXawCMrGGor",
        "outputId": "897fdd7d-58ef-4c01-e4e7-17e04d6759a4"
      },
      "outputs": [
        {
          "output_type": "execute_result",
          "data": {
            "text/plain": [
              "0.6522099001636041"
            ]
          },
          "metadata": {},
          "execution_count": 90
        }
      ],
      "source": [
        "knn_acc_rest = cross_val_score(knn_lan2_rest, scaled_X_rest_train, y_rest_train, scoring = 'f1_macro', cv=5).mean()\n",
        "knn_acc_rest"
      ]
    },
    {
      "cell_type": "markdown",
      "metadata": {
        "id": "iMNiU7Sda42c"
      },
      "source": [
        "### Decision Tree"
      ]
    },
    {
      "cell_type": "markdown",
      "metadata": {
        "id": "TRV7woGEhcMx"
      },
      "source": [
        "- Chạy mô hình trên các thuộc tính quan trọng"
      ]
    },
    {
      "cell_type": "code",
      "execution_count": null,
      "metadata": {
        "colab": {
          "base_uri": "https://localhost:8080/"
        },
        "id": "tK1ylNYEa7VJ",
        "outputId": "1df6913c-4265-4d24-e2c3-781403ef9a4a"
      },
      "outputs": [
        {
          "output_type": "stream",
          "name": "stdout",
          "text": [
            "Decision Tree training time: 0.851569652557373s\n"
          ]
        }
      ],
      "source": [
        "tree_clf = DecisionTreeClassifier(random_state = 20)\n",
        "start = time.time()\n",
        "tree_clf.fit(scaled_X_train_2, y_train_2)\n",
        "stop = time.time()\n",
        "tree_time_2.append(stop - start)\n",
        "print(f\"Decision Tree training time: {stop - start}s\")"
      ]
    },
    {
      "cell_type": "code",
      "execution_count": null,
      "metadata": {
        "colab": {
          "base_uri": "https://localhost:8080/"
        },
        "id": "DDJ4A9pwhXkC",
        "outputId": "f22f1c08-0feb-4f83-bb4f-5e75bd7536d0"
      },
      "outputs": [
        {
          "output_type": "execute_result",
          "data": {
            "text/plain": [
              "0.9285779395153263"
            ]
          },
          "metadata": {},
          "execution_count": 96
        }
      ],
      "source": [
        "tree_acc_2 = cross_val_score(tree_clf, scaled_X_train_2, y_train_2, scoring = 'f1_macro', cv = 5).mean()\n",
        "tree_acc_2"
      ]
    },
    {
      "cell_type": "markdown",
      "metadata": {
        "id": "mlUTn32fhgzw"
      },
      "source": [
        "- Chạy mô hình trên các thuộc tính còn lại"
      ]
    },
    {
      "cell_type": "code",
      "execution_count": null,
      "metadata": {
        "colab": {
          "base_uri": "https://localhost:8080/"
        },
        "id": "K4M7u_nOhuSR",
        "outputId": "1eaf0e97-891b-4f9c-b428-7c2e9ed3d00a"
      },
      "outputs": [
        {
          "output_type": "stream",
          "name": "stdout",
          "text": [
            "Decision Tree training time: 3.6059818267822266s\n"
          ]
        }
      ],
      "source": [
        "tree_clf_rest = DecisionTreeClassifier(random_state = 20)\n",
        "start = time.time()\n",
        "tree_clf_rest.fit(scaled_X_rest_train, y_rest_train)\n",
        "stop = time.time()\n",
        "tree_time_rest.append(stop - start)\n",
        "print(f\"Decision Tree training time: {stop - start}s\")"
      ]
    },
    {
      "cell_type": "code",
      "execution_count": null,
      "metadata": {
        "colab": {
          "base_uri": "https://localhost:8080/"
        },
        "id": "4vqXaNsGh4yw",
        "outputId": "d6441914-a1c4-47b1-a4f7-e78bad3624a2"
      },
      "outputs": [
        {
          "output_type": "execute_result",
          "data": {
            "text/plain": [
              "0.6813510683980422"
            ]
          },
          "metadata": {},
          "execution_count": 102
        }
      ],
      "source": [
        "tree_acc_rest = cross_val_score(tree_clf_rest, scaled_X_rest_train, y_rest_train, scoring = 'f1_macro', cv = 5).mean()\n",
        "tree_acc_rest"
      ]
    },
    {
      "cell_type": "markdown",
      "metadata": {
        "id": "NRKX45LiCQCT"
      },
      "source": [
        "### Neural Network"
      ]
    },
    {
      "cell_type": "markdown",
      "metadata": {
        "id": "S_aPicmgCW6E"
      },
      "source": [
        "- Chạy mô hình trên các thuộc tính quan trọng"
      ]
    },
    {
      "cell_type": "code",
      "execution_count": null,
      "metadata": {
        "colab": {
          "base_uri": "https://localhost:8080/"
        },
        "id": "9Q1v8ZHdCToH",
        "outputId": "02a80d0a-4383-4355-ad4e-a3dff637600c"
      },
      "outputs": [
        {
          "output_type": "stream",
          "name": "stdout",
          "text": [
            "Neural Network training time: 148.0031771659851s\n"
          ]
        }
      ],
      "source": [
        "model_neural = MLPClassifier(random_state=20, max_iter=500)\n",
        "start = time.time()\n",
        "model_neural.fit(scaled_X_train_2, y_train_2)\n",
        "stop = time.time()\n",
        "nn_time_2.append(stop - start)\n",
        "print(f\"Neural Network training time: {stop - start}s\")"
      ]
    },
    {
      "cell_type": "code",
      "execution_count": null,
      "metadata": {
        "colab": {
          "base_uri": "https://localhost:8080/"
        },
        "id": "hLHn4OdwCocL",
        "outputId": "0a38ca0a-3184-4aaf-e27a-68ab0d68fd26"
      },
      "outputs": [
        {
          "output_type": "execute_result",
          "data": {
            "text/plain": [
              "0.9693650312845646"
            ]
          },
          "metadata": {},
          "execution_count": 108
        }
      ],
      "source": [
        "nn_acc_2 = cross_val_score(model_neural, scaled_X_train_2, y_train_2, scoring = 'f1_macro', cv = 5).mean()\n",
        "nn_acc_2"
      ]
    },
    {
      "cell_type": "markdown",
      "metadata": {
        "id": "9uxUJ0R1Cctw"
      },
      "source": [
        "- Chạy mô hình trên các thuộc tính còn lại"
      ]
    },
    {
      "cell_type": "code",
      "execution_count": null,
      "metadata": {
        "colab": {
          "base_uri": "https://localhost:8080/"
        },
        "id": "OpmjlZ5EC945",
        "outputId": "046e6f67-517f-494c-dd68-a38af2a58423"
      },
      "outputs": [
        {
          "output_type": "stream",
          "name": "stdout",
          "text": [
            "Neural Network training time: 427.7671465873718s\n"
          ]
        }
      ],
      "source": [
        "model_neural_rest = MLPClassifier(random_state=20, max_iter=500)\n",
        "start = time.time()\n",
        "model_neural_rest.fit(scaled_X_rest_train, y_rest_train)\n",
        "stop = time.time()\n",
        "nn_time_rest.append(stop - start)\n",
        "print(f\"Neural Network training time: {stop - start}s\")"
      ]
    },
    {
      "cell_type": "code",
      "execution_count": null,
      "metadata": {
        "colab": {
          "base_uri": "https://localhost:8080/"
        },
        "id": "aSUPUjm8DPb4",
        "outputId": "10953ce2-2768-4d06-9279-1b7215a19a0f"
      },
      "outputs": [
        {
          "output_type": "execute_result",
          "data": {
            "text/plain": [
              "0.6874985266939453"
            ]
          },
          "metadata": {},
          "execution_count": 114
        }
      ],
      "source": [
        "nn_acc_rest = cross_val_score(model_neural_rest, scaled_X_rest_train, y_rest_train, scoring = 'f1_macro', cv = 5).mean()\n",
        "nn_acc_rest"
      ]
    },
    {
      "cell_type": "markdown",
      "metadata": {
        "id": "vSGzTuIGiSnv"
      },
      "source": [
        "### Có phải 9 thuộc tính được chọn thực sự ảnh hưởng đến khả năng hủy đặt phòng của khách hàng hay không?"
      ]
    },
    {
      "cell_type": "code",
      "source": [
        "columns = {\n",
        "    'model':['Logistic Regression', 'Logistic Regression', 'Logistic Regression', 'K-Nearest Neighbors', 'K-Nearest Neighbors', \n",
        "             'K-Nearest Neighbors', 'Decision Tree', 'Decision Tree', 'Decision Tree', 'Neural Network', 'Neural Network', 'Neural Network'],\n",
        "    'dataset':['Full', 'Important', 'Rest', 'Full', 'Important', 'Rest', 'Full', 'Important', 'Rest', 'Full', 'Important', 'Rest'],\n",
        "    'f1_score':[lr_acc_1, lr_acc_2, lr_acc_rest, knn_acc_1, knn_acc_2, knn_acc_rest, tree_acc_1, tree_acc_2, tree_acc_rest, \n",
        "                      nn_acc_1, nn_acc_2, nn_acc_rest],\n",
        "    'time':[np.array(lr_time_1).mean(), np.array(lr_time_2).mean(), np.array(lr_time_rest).mean(), np.array(knn_time_1).mean(), \n",
        "            np.array(knn_time_2).mean(), np.array(knn_time_rest).mean(), np.array(tree_time_1).mean(), \n",
        "            np.array(tree_time_2).mean(), np.array(tree_time_rest).mean(), np.array(nn_time_1).mean(), np.array(nn_time_2).mean(), \n",
        "            np.array(nn_time_rest).mean()]\n",
        "}\n",
        "df = pd.DataFrame(columns)\n",
        "df"
      ],
      "metadata": {
        "id": "-2SD0QcqfCAe",
        "colab": {
          "base_uri": "https://localhost:8080/",
          "height": 426
        },
        "outputId": "4680737a-4349-4022-b4fb-3de63883970c"
      },
      "execution_count": null,
      "outputs": [
        {
          "output_type": "execute_result",
          "data": {
            "text/plain": [
              "                  model    dataset  accuracy_score        time\n",
              "0   Logistic Regression       Full        0.796852    5.331134\n",
              "1   Logistic Regression  Important        0.777194    3.014467\n",
              "2   Logistic Regression       Rest        0.651313   12.346568\n",
              "3   K-Nearest Neighbors       Full        0.818619    0.031029\n",
              "4   K-Nearest Neighbors  Important        0.872088    0.013292\n",
              "5   K-Nearest Neighbors       Rest        0.652210    0.027340\n",
              "6         Decision Tree       Full        0.927192    3.409228\n",
              "7         Decision Tree  Important        0.928578    0.860078\n",
              "8         Decision Tree       Rest        0.681351    3.586171\n",
              "9        Neural Network       Full        0.960749  323.229544\n",
              "10       Neural Network  Important        0.969365  149.495237\n",
              "11       Neural Network       Rest        0.687499  420.972387"
            ],
            "text/html": [
              "\n",
              "  <div id=\"df-558a8d9f-e4ea-4c3d-b7f7-6009d4f7aaa2\">\n",
              "    <div class=\"colab-df-container\">\n",
              "      <div>\n",
              "<style scoped>\n",
              "    .dataframe tbody tr th:only-of-type {\n",
              "        vertical-align: middle;\n",
              "    }\n",
              "\n",
              "    .dataframe tbody tr th {\n",
              "        vertical-align: top;\n",
              "    }\n",
              "\n",
              "    .dataframe thead th {\n",
              "        text-align: right;\n",
              "    }\n",
              "</style>\n",
              "<table border=\"1\" class=\"dataframe\">\n",
              "  <thead>\n",
              "    <tr style=\"text-align: right;\">\n",
              "      <th></th>\n",
              "      <th>model</th>\n",
              "      <th>dataset</th>\n",
              "      <th>accuracy_score</th>\n",
              "      <th>time</th>\n",
              "    </tr>\n",
              "  </thead>\n",
              "  <tbody>\n",
              "    <tr>\n",
              "      <th>0</th>\n",
              "      <td>Logistic Regression</td>\n",
              "      <td>Full</td>\n",
              "      <td>0.796852</td>\n",
              "      <td>5.331134</td>\n",
              "    </tr>\n",
              "    <tr>\n",
              "      <th>1</th>\n",
              "      <td>Logistic Regression</td>\n",
              "      <td>Important</td>\n",
              "      <td>0.777194</td>\n",
              "      <td>3.014467</td>\n",
              "    </tr>\n",
              "    <tr>\n",
              "      <th>2</th>\n",
              "      <td>Logistic Regression</td>\n",
              "      <td>Rest</td>\n",
              "      <td>0.651313</td>\n",
              "      <td>12.346568</td>\n",
              "    </tr>\n",
              "    <tr>\n",
              "      <th>3</th>\n",
              "      <td>K-Nearest Neighbors</td>\n",
              "      <td>Full</td>\n",
              "      <td>0.818619</td>\n",
              "      <td>0.031029</td>\n",
              "    </tr>\n",
              "    <tr>\n",
              "      <th>4</th>\n",
              "      <td>K-Nearest Neighbors</td>\n",
              "      <td>Important</td>\n",
              "      <td>0.872088</td>\n",
              "      <td>0.013292</td>\n",
              "    </tr>\n",
              "    <tr>\n",
              "      <th>5</th>\n",
              "      <td>K-Nearest Neighbors</td>\n",
              "      <td>Rest</td>\n",
              "      <td>0.652210</td>\n",
              "      <td>0.027340</td>\n",
              "    </tr>\n",
              "    <tr>\n",
              "      <th>6</th>\n",
              "      <td>Decision Tree</td>\n",
              "      <td>Full</td>\n",
              "      <td>0.927192</td>\n",
              "      <td>3.409228</td>\n",
              "    </tr>\n",
              "    <tr>\n",
              "      <th>7</th>\n",
              "      <td>Decision Tree</td>\n",
              "      <td>Important</td>\n",
              "      <td>0.928578</td>\n",
              "      <td>0.860078</td>\n",
              "    </tr>\n",
              "    <tr>\n",
              "      <th>8</th>\n",
              "      <td>Decision Tree</td>\n",
              "      <td>Rest</td>\n",
              "      <td>0.681351</td>\n",
              "      <td>3.586171</td>\n",
              "    </tr>\n",
              "    <tr>\n",
              "      <th>9</th>\n",
              "      <td>Neural Network</td>\n",
              "      <td>Full</td>\n",
              "      <td>0.960749</td>\n",
              "      <td>323.229544</td>\n",
              "    </tr>\n",
              "    <tr>\n",
              "      <th>10</th>\n",
              "      <td>Neural Network</td>\n",
              "      <td>Important</td>\n",
              "      <td>0.969365</td>\n",
              "      <td>149.495237</td>\n",
              "    </tr>\n",
              "    <tr>\n",
              "      <th>11</th>\n",
              "      <td>Neural Network</td>\n",
              "      <td>Rest</td>\n",
              "      <td>0.687499</td>\n",
              "      <td>420.972387</td>\n",
              "    </tr>\n",
              "  </tbody>\n",
              "</table>\n",
              "</div>\n",
              "      <button class=\"colab-df-convert\" onclick=\"convertToInteractive('df-558a8d9f-e4ea-4c3d-b7f7-6009d4f7aaa2')\"\n",
              "              title=\"Convert this dataframe to an interactive table.\"\n",
              "              style=\"display:none;\">\n",
              "        \n",
              "  <svg xmlns=\"http://www.w3.org/2000/svg\" height=\"24px\"viewBox=\"0 0 24 24\"\n",
              "       width=\"24px\">\n",
              "    <path d=\"M0 0h24v24H0V0z\" fill=\"none\"/>\n",
              "    <path d=\"M18.56 5.44l.94 2.06.94-2.06 2.06-.94-2.06-.94-.94-2.06-.94 2.06-2.06.94zm-11 1L8.5 8.5l.94-2.06 2.06-.94-2.06-.94L8.5 2.5l-.94 2.06-2.06.94zm10 10l.94 2.06.94-2.06 2.06-.94-2.06-.94-.94-2.06-.94 2.06-2.06.94z\"/><path d=\"M17.41 7.96l-1.37-1.37c-.4-.4-.92-.59-1.43-.59-.52 0-1.04.2-1.43.59L10.3 9.45l-7.72 7.72c-.78.78-.78 2.05 0 2.83L4 21.41c.39.39.9.59 1.41.59.51 0 1.02-.2 1.41-.59l7.78-7.78 2.81-2.81c.8-.78.8-2.07 0-2.86zM5.41 20L4 18.59l7.72-7.72 1.47 1.35L5.41 20z\"/>\n",
              "  </svg>\n",
              "      </button>\n",
              "      \n",
              "  <style>\n",
              "    .colab-df-container {\n",
              "      display:flex;\n",
              "      flex-wrap:wrap;\n",
              "      gap: 12px;\n",
              "    }\n",
              "\n",
              "    .colab-df-convert {\n",
              "      background-color: #E8F0FE;\n",
              "      border: none;\n",
              "      border-radius: 50%;\n",
              "      cursor: pointer;\n",
              "      display: none;\n",
              "      fill: #1967D2;\n",
              "      height: 32px;\n",
              "      padding: 0 0 0 0;\n",
              "      width: 32px;\n",
              "    }\n",
              "\n",
              "    .colab-df-convert:hover {\n",
              "      background-color: #E2EBFA;\n",
              "      box-shadow: 0px 1px 2px rgba(60, 64, 67, 0.3), 0px 1px 3px 1px rgba(60, 64, 67, 0.15);\n",
              "      fill: #174EA6;\n",
              "    }\n",
              "\n",
              "    [theme=dark] .colab-df-convert {\n",
              "      background-color: #3B4455;\n",
              "      fill: #D2E3FC;\n",
              "    }\n",
              "\n",
              "    [theme=dark] .colab-df-convert:hover {\n",
              "      background-color: #434B5C;\n",
              "      box-shadow: 0px 1px 3px 1px rgba(0, 0, 0, 0.15);\n",
              "      filter: drop-shadow(0px 1px 2px rgba(0, 0, 0, 0.3));\n",
              "      fill: #FFFFFF;\n",
              "    }\n",
              "  </style>\n",
              "\n",
              "      <script>\n",
              "        const buttonEl =\n",
              "          document.querySelector('#df-558a8d9f-e4ea-4c3d-b7f7-6009d4f7aaa2 button.colab-df-convert');\n",
              "        buttonEl.style.display =\n",
              "          google.colab.kernel.accessAllowed ? 'block' : 'none';\n",
              "\n",
              "        async function convertToInteractive(key) {\n",
              "          const element = document.querySelector('#df-558a8d9f-e4ea-4c3d-b7f7-6009d4f7aaa2');\n",
              "          const dataTable =\n",
              "            await google.colab.kernel.invokeFunction('convertToInteractive',\n",
              "                                                     [key], {});\n",
              "          if (!dataTable) return;\n",
              "\n",
              "          const docLinkHtml = 'Like what you see? Visit the ' +\n",
              "            '<a target=\"_blank\" href=https://colab.research.google.com/notebooks/data_table.ipynb>data table notebook</a>'\n",
              "            + ' to learn more about interactive tables.';\n",
              "          element.innerHTML = '';\n",
              "          dataTable['output_type'] = 'display_data';\n",
              "          await google.colab.output.renderOutput(dataTable, element);\n",
              "          const docLink = document.createElement('div');\n",
              "          docLink.innerHTML = docLinkHtml;\n",
              "          element.appendChild(docLink);\n",
              "        }\n",
              "      </script>\n",
              "    </div>\n",
              "  </div>\n",
              "  "
            ]
          },
          "metadata": {},
          "execution_count": 115
        }
      ]
    },
    {
      "cell_type": "code",
      "source": [
        "plt.figure(figsize=(10, 8))\n",
        "sns.barplot(x=\"model\", y=\"accuracy_score\", hue=\"dataset\", data=df, ci=None, palette = 'Blues')"
      ],
      "metadata": {
        "colab": {
          "base_uri": "https://localhost:8080/",
          "height": 514
        },
        "id": "T_nZRG81doc4",
        "outputId": "1ad8105f-6eba-413a-d47f-f777066d8b27"
      },
      "execution_count": null,
      "outputs": [
        {
          "output_type": "execute_result",
          "data": {
            "text/plain": [
              "<matplotlib.axes._subplots.AxesSubplot at 0x7fa137272b90>"
            ]
          },
          "metadata": {},
          "execution_count": 116
        },
        {
          "output_type": "display_data",
          "data": {
            "text/plain": [
              "<Figure size 720x576 with 1 Axes>"
            ],
            "image/png": "[encoded data removed]"
          },
          "metadata": {
            "needs_background": "light"
          }
        }
      ]
    },
    {
      "cell_type": "markdown",
      "metadata": {
        "id": "fZsIx69-eJrG"
      },
      "source": [
        "## Đánh giá mô hình"
      ]
    },
    {
      "cell_type": "markdown",
      "source": [
        "- Sử dụng độ đo f1 thay vì accuracy để đánh giá do bộ dữ liệu bị mất cân bằng\n",
        "- So sánh auc"
      ],
      "metadata": {
        "id": "eeKTURb7MceM"
      }
    },
    {
      "cell_type": "code",
      "execution_count": null,
      "metadata": {
        "id": "eqD2hQCaZvUK",
        "colab": {
          "base_uri": "https://localhost:8080/"
        },
        "outputId": "8108950b-ad32-4d7f-accb-dfee69f7c7b0"
      },
      "outputs": [
        {
          "output_type": "stream",
          "name": "stdout",
          "text": [
            "              precision    recall  f1-score   support\n",
            "\n",
            "           0       0.80      0.91      0.85     15003\n",
            "           1       0.80      0.63      0.70      8839\n",
            "\n",
            "    accuracy                           0.80     23842\n",
            "   macro avg       0.80      0.77      0.78     23842\n",
            "weighted avg       0.80      0.80      0.80     23842\n",
            "\n"
          ]
        }
      ],
      "source": [
        "# Logistic Regression\n",
        "y_pred_lr = model_logistic.predict(scaled_X_test_2)\n",
        "lr_f1 = f1_score(y_test_2, y_pred_lr, average = 'macro')\n",
        "\n",
        "lr_fpr, lr_tpr, lr_thres = roc_curve(y_test_2, y_pred_lr)\n",
        "lr_auc = auc(lr_fpr, lr_tpr)\n",
        "print(classification_report(y_test_2, y_pred_lr))"
      ]
    },
    {
      "cell_type": "code",
      "source": [
        "# K-Nearest Neighbors\n",
        "y_pred_knn = knn_lan2.predict(scaled_X_test_2)\n",
        "knn_f1 = f1_score(y_test_2, y_pred_knn, average = 'macro')\n",
        "\n",
        "knn_fpr, knn_tpr, knn_thres = roc_curve(y_test_2, y_pred_knn)\n",
        "knn_auc = auc(knn_fpr, knn_tpr)\n",
        "print(classification_report(y_test_2, y_pred_knn))"
      ],
      "metadata": {
        "id": "XDDnbQmfEkWX",
        "colab": {
          "base_uri": "https://localhost:8080/"
        },
        "outputId": "654041a1-62d4-4bfd-fca6-b8b6d1d06ea0"
      },
      "execution_count": null,
      "outputs": [
        {
          "output_type": "stream",
          "name": "stdout",
          "text": [
            "              precision    recall  f1-score   support\n",
            "\n",
            "           0       0.88      0.94      0.91     15003\n",
            "           1       0.89      0.79      0.84      8839\n",
            "\n",
            "    accuracy                           0.88     23842\n",
            "   macro avg       0.89      0.86      0.87     23842\n",
            "weighted avg       0.89      0.88      0.88     23842\n",
            "\n"
          ]
        }
      ]
    },
    {
      "cell_type": "code",
      "execution_count": null,
      "metadata": {
        "id": "kW623c5nEt46",
        "colab": {
          "base_uri": "https://localhost:8080/"
        },
        "outputId": "abcd5371-9158-408a-f825-ad9228619316"
      },
      "outputs": [
        {
          "output_type": "stream",
          "name": "stdout",
          "text": [
            "              precision    recall  f1-score   support\n",
            "\n",
            "           0       0.94      0.94      0.94     15003\n",
            "           1       0.89      0.91      0.90      8839\n",
            "\n",
            "    accuracy                           0.92     23842\n",
            "   macro avg       0.92      0.92      0.92     23842\n",
            "weighted avg       0.93      0.92      0.93     23842\n",
            "\n"
          ]
        }
      ],
      "source": [
        "# Decision Tree\n",
        "y_pred_tree = tree_clf.predict(scaled_X_test_2)\n",
        "tree_f1 = f1_score(y_test_2, y_pred_tree, average = 'macro')\n",
        "\n",
        "tree_fpr, tree_tpr, tree_thres = roc_curve(y_test_2, y_pred_tree)\n",
        "tree_auc = auc(tree_fpr, tree_tpr)\n",
        "print(classification_report(y_test_2, y_pred_tree))"
      ]
    },
    {
      "cell_type": "code",
      "source": [
        "# Neural Network\n",
        "y_pred_nn = model_neural.predict(scaled_X_test_2)\n",
        "nn_f1 = f1_score(y_test_2, y_pred_nn, average = 'macro')\n",
        "\n",
        "nn_fpr, nn_tpr, nn_thres = roc_curve(y_test_2, y_pred_nn)\n",
        "nn_auc = auc(nn_fpr, nn_tpr)\n",
        "print(classification_report(y_test_2, y_pred_nn))"
      ],
      "metadata": {
        "id": "kkKqqdNEE2oc",
        "colab": {
          "base_uri": "https://localhost:8080/"
        },
        "outputId": "c400c23d-93d7-4c7e-a92a-0ddb22cf39f6"
      },
      "execution_count": null,
      "outputs": [
        {
          "output_type": "stream",
          "name": "stdout",
          "text": [
            "              precision    recall  f1-score   support\n",
            "\n",
            "           0       0.97      0.99      0.98     15003\n",
            "           1       0.98      0.94      0.96      8839\n",
            "\n",
            "    accuracy                           0.97     23842\n",
            "   macro avg       0.97      0.97      0.97     23842\n",
            "weighted avg       0.97      0.97      0.97     23842\n",
            "\n"
          ]
        }
      ]
    },
    {
      "cell_type": "code",
      "source": [
        "columns = {\n",
        "    'model':['Logistic Regression', 'Logistic Regression', 'K-Nearest Neighbors', 'K-Nearest Neighbors', 'Decision Tree', 'Decision Tree', 'Neural Network', 'Neural Network'],\n",
        "    'metrics':['F1 score', 'Area under curve', 'F1 score', 'Area under curve', 'F1 score', 'Area under curve', 'F1 score', 'Area under curve'],\n",
        "    'score':[lr_f1, lr_auc, knn_f1, knn_auc, tree_f1, tree_auc, nn_f1, nn_auc]\n",
        "}\n",
        "df = pd.DataFrame(columns)\n",
        "df"
      ],
      "metadata": {
        "colab": {
          "base_uri": "https://localhost:8080/",
          "height": 300
        },
        "id": "UoDnQgF8S5y6",
        "outputId": "68c7d7ce-87b4-49d3-a1fc-175e8e65ec8a"
      },
      "execution_count": null,
      "outputs": [
        {
          "output_type": "execute_result",
          "data": {
            "text/plain": [
              "                 model           metrics     score\n",
              "0  Logistic Regression          F1 score  0.777177\n",
              "1  Logistic Regression  Area under curve  0.766493\n",
              "2  K-Nearest Neighbors          F1 score  0.873381\n",
              "3  K-Nearest Neighbors  Area under curve  0.864802\n",
              "4        Decision Tree          F1 score  0.919828\n",
              "5        Decision Tree  Area under curve  0.921089\n",
              "6       Neural Network          F1 score  0.968865\n",
              "7       Neural Network  Area under curve  0.965753"
            ],
            "text/html": [
              "\n",
              "  <div id=\"df-adcbfc44-daae-4edd-8fe7-7e0019971436\">\n",
              "    <div class=\"colab-df-container\">\n",
              "      <div>\n",
              "<style scoped>\n",
              "    .dataframe tbody tr th:only-of-type {\n",
              "        vertical-align: middle;\n",
              "    }\n",
              "\n",
              "    .dataframe tbody tr th {\n",
              "        vertical-align: top;\n",
              "    }\n",
              "\n",
              "    .dataframe thead th {\n",
              "        text-align: right;\n",
              "    }\n",
              "</style>\n",
              "<table border=\"1\" class=\"dataframe\">\n",
              "  <thead>\n",
              "    <tr style=\"text-align: right;\">\n",
              "      <th></th>\n",
              "      <th>model</th>\n",
              "      <th>metrics</th>\n",
              "      <th>score</th>\n",
              "    </tr>\n",
              "  </thead>\n",
              "  <tbody>\n",
              "    <tr>\n",
              "      <th>0</th>\n",
              "      <td>Logistic Regression</td>\n",
              "      <td>F1 score</td>\n",
              "      <td>0.777177</td>\n",
              "    </tr>\n",
              "    <tr>\n",
              "      <th>1</th>\n",
              "      <td>Logistic Regression</td>\n",
              "      <td>Area under curve</td>\n",
              "      <td>0.766493</td>\n",
              "    </tr>\n",
              "    <tr>\n",
              "      <th>2</th>\n",
              "      <td>K-Nearest Neighbors</td>\n",
              "      <td>F1 score</td>\n",
              "      <td>0.873381</td>\n",
              "    </tr>\n",
              "    <tr>\n",
              "      <th>3</th>\n",
              "      <td>K-Nearest Neighbors</td>\n",
              "      <td>Area under curve</td>\n",
              "      <td>0.864802</td>\n",
              "    </tr>\n",
              "    <tr>\n",
              "      <th>4</th>\n",
              "      <td>Decision Tree</td>\n",
              "      <td>F1 score</td>\n",
              "      <td>0.919828</td>\n",
              "    </tr>\n",
              "    <tr>\n",
              "      <th>5</th>\n",
              "      <td>Decision Tree</td>\n",
              "      <td>Area under curve</td>\n",
              "      <td>0.921089</td>\n",
              "    </tr>\n",
              "    <tr>\n",
              "      <th>6</th>\n",
              "      <td>Neural Network</td>\n",
              "      <td>F1 score</td>\n",
              "      <td>0.968865</td>\n",
              "    </tr>\n",
              "    <tr>\n",
              "      <th>7</th>\n",
              "      <td>Neural Network</td>\n",
              "      <td>Area under curve</td>\n",
              "      <td>0.965753</td>\n",
              "    </tr>\n",
              "  </tbody>\n",
              "</table>\n",
              "</div>\n",
              "      <button class=\"colab-df-convert\" onclick=\"convertToInteractive('df-adcbfc44-daae-4edd-8fe7-7e0019971436')\"\n",
              "              title=\"Convert this dataframe to an interactive table.\"\n",
              "              style=\"display:none;\">\n",
              "        \n",
              "  <svg xmlns=\"http://www.w3.org/2000/svg\" height=\"24px\"viewBox=\"0 0 24 24\"\n",
              "       width=\"24px\">\n",
              "    <path d=\"M0 0h24v24H0V0z\" fill=\"none\"/>\n",
              "    <path d=\"M18.56 5.44l.94 2.06.94-2.06 2.06-.94-2.06-.94-.94-2.06-.94 2.06-2.06.94zm-11 1L8.5 8.5l.94-2.06 2.06-.94-2.06-.94L8.5 2.5l-.94 2.06-2.06.94zm10 10l.94 2.06.94-2.06 2.06-.94-2.06-.94-.94-2.06-.94 2.06-2.06.94z\"/><path d=\"M17.41 7.96l-1.37-1.37c-.4-.4-.92-.59-1.43-.59-.52 0-1.04.2-1.43.59L10.3 9.45l-7.72 7.72c-.78.78-.78 2.05 0 2.83L4 21.41c.39.39.9.59 1.41.59.51 0 1.02-.2 1.41-.59l7.78-7.78 2.81-2.81c.8-.78.8-2.07 0-2.86zM5.41 20L4 18.59l7.72-7.72 1.47 1.35L5.41 20z\"/>\n",
              "  </svg>\n",
              "      </button>\n",
              "      \n",
              "  <style>\n",
              "    .colab-df-container {\n",
              "      display:flex;\n",
              "      flex-wrap:wrap;\n",
              "      gap: 12px;\n",
              "    }\n",
              "\n",
              "    .colab-df-convert {\n",
              "      background-color: #E8F0FE;\n",
              "      border: none;\n",
              "      border-radius: 50%;\n",
              "      cursor: pointer;\n",
              "      display: none;\n",
              "      fill: #1967D2;\n",
              "      height: 32px;\n",
              "      padding: 0 0 0 0;\n",
              "      width: 32px;\n",
              "    }\n",
              "\n",
              "    .colab-df-convert:hover {\n",
              "      background-color: #E2EBFA;\n",
              "      box-shadow: 0px 1px 2px rgba(60, 64, 67, 0.3), 0px 1px 3px 1px rgba(60, 64, 67, 0.15);\n",
              "      fill: #174EA6;\n",
              "    }\n",
              "\n",
              "    [theme=dark] .colab-df-convert {\n",
              "      background-color: #3B4455;\n",
              "      fill: #D2E3FC;\n",
              "    }\n",
              "\n",
              "    [theme=dark] .colab-df-convert:hover {\n",
              "      background-color: #434B5C;\n",
              "      box-shadow: 0px 1px 3px 1px rgba(0, 0, 0, 0.15);\n",
              "      filter: drop-shadow(0px 1px 2px rgba(0, 0, 0, 0.3));\n",
              "      fill: #FFFFFF;\n",
              "    }\n",
              "  </style>\n",
              "\n",
              "      <script>\n",
              "        const buttonEl =\n",
              "          document.querySelector('#df-adcbfc44-daae-4edd-8fe7-7e0019971436 button.colab-df-convert');\n",
              "        buttonEl.style.display =\n",
              "          google.colab.kernel.accessAllowed ? 'block' : 'none';\n",
              "\n",
              "        async function convertToInteractive(key) {\n",
              "          const element = document.querySelector('#df-adcbfc44-daae-4edd-8fe7-7e0019971436');\n",
              "          const dataTable =\n",
              "            await google.colab.kernel.invokeFunction('convertToInteractive',\n",
              "                                                     [key], {});\n",
              "          if (!dataTable) return;\n",
              "\n",
              "          const docLinkHtml = 'Like what you see? Visit the ' +\n",
              "            '<a target=\"_blank\" href=https://colab.research.google.com/notebooks/data_table.ipynb>data table notebook</a>'\n",
              "            + ' to learn more about interactive tables.';\n",
              "          element.innerHTML = '';\n",
              "          dataTable['output_type'] = 'display_data';\n",
              "          await google.colab.output.renderOutput(dataTable, element);\n",
              "          const docLink = document.createElement('div');\n",
              "          docLink.innerHTML = docLinkHtml;\n",
              "          element.appendChild(docLink);\n",
              "        }\n",
              "      </script>\n",
              "    </div>\n",
              "  </div>\n",
              "  "
            ]
          },
          "metadata": {},
          "execution_count": 123
        }
      ]
    },
    {
      "cell_type": "code",
      "source": [
        "plt.figure(figsize=(10, 8))\n",
        "sns.barplot(x=\"metrics\", y=\"score\", hue=\"model\", data=df, ci=None, palette = 'Blues');"
      ],
      "metadata": {
        "colab": {
          "base_uri": "https://localhost:8080/",
          "height": 497
        },
        "id": "oRqlANB6UerQ",
        "outputId": "4aadcd64-6d00-467d-d052-989cfa89ae69"
      },
      "execution_count": null,
      "outputs": [
        {
          "output_type": "display_data",
          "data": {
            "text/plain": [
              "<Figure size 720x576 with 1 Axes>"
            ],
            "image/png": "[encoded data removed]"
          },
          "metadata": {
            "needs_background": "light"
          }
        }
      ]
    },
    {
      "cell_type": "markdown",
      "source": [
        "Trong 4 mô hình thử nghiệm, Neural Network có khả năng phân loại tốt nhất với f1 score là 96.9% và phần diện tích gạch chéo nằm dưới đường cong ROC là 0.966."
      ],
      "metadata": {
        "id": "6ioZQpB-D_ff"
      }
    },
    {
      "cell_type": "code",
      "source": [
        "plt.figure(figsize=(15, 8))\n",
        "plt.plot(lr_fpr,lr_tpr,label=\"Logistic Regression, AUC = \"+str(lr_auc), color = '#bdd3e3')\n",
        "plt.plot(knn_fpr,knn_tpr,label=\"K-Nearest Neighbors, AUC = \"+str(knn_auc), color = '#78aac8')\n",
        "plt.plot(tree_fpr,tree_tpr,label=\"Decision Tree, AUC = \"+str(tree_auc), color = '#3f7baa')\n",
        "plt.plot(nn_fpr,nn_tpr,label=\"Neural Network, AUC = \"+str(nn_auc), color = '#194b80')\n",
        "plt.legend()"
      ],
      "metadata": {
        "colab": {
          "base_uri": "https://localhost:8080/",
          "height": 500
        },
        "id": "91JBhF8LWuKY",
        "outputId": "f09fd6c3-037b-4c58-cece-138300655ecd"
      },
      "execution_count": null,
      "outputs": [
        {
          "output_type": "execute_result",
          "data": {
            "text/plain": [
              "<matplotlib.legend.Legend at 0x7fa1374f91d0>"
            ]
          },
          "metadata": {},
          "execution_count": 125
        },
        {
          "output_type": "display_data",
          "data": {
            "text/plain": [
              "<Figure size 1080x576 with 1 Axes>"
            ],
            "image/png": "[encoded data removed]"
          },
          "metadata": {
            "needs_background": "light"
          }
        }
      ]
    },
    {
      "cell_type": "markdown",
      "metadata": {
        "id": "J_yPmIXSdqJO"
      },
      "source": [
        "## Tinh chỉnh mô hình"
      ]
    },
    {
      "cell_type": "code",
      "execution_count": null,
      "metadata": {
        "id": "G0feqLvkTurS",
        "colab": {
          "base_uri": "https://localhost:8080/"
        },
        "outputId": "e8c45d64-83e7-4413-ae09-edd46f5d9fbf"
      },
      "outputs": [
        {
          "output_type": "stream",
          "name": "stdout",
          "text": [
            "Fitting 5 folds for each of 4 candidates, totalling 20 fits\n",
            "Best Parameters using Grid Search: \n",
            " {'alpha': 0.1, 'hidden_layer_sizes': (50, 50, 50)}\n"
          ]
        }
      ],
      "source": [
        "mlpc_parameters = {\"hidden_layer_sizes\": [(50,50,50),\n",
        "                                          (100,100)],\n",
        "                   \"alpha\": [1, 0.1]}\n",
        "\n",
        "model_neural = MLPClassifier()\n",
        "model_neural_grid = GridSearchCV(model_neural, mlpc_parameters, scoring = 'f1_macro',\n",
        "                             cv = 5,\n",
        "                             n_jobs = -1,\n",
        "                             verbose = 2)\n",
        "model_neural = model_neural_grid.fit(scaled_X_train_2, y_train_2)\n",
        "print('Best Parameters using Grid Search: \\n', model_neural_grid.best_params_)"
      ]
    },
    {
      "cell_type": "code",
      "source": [
        "grid_results = pd.DataFrame(model_neural_grid.cv_results_)\n",
        "grid_results"
      ],
      "metadata": {
        "colab": {
          "base_uri": "https://localhost:8080/",
          "height": 378
        },
        "id": "b6zxo2HCWd92",
        "outputId": "aaf991b8-e560-487e-b3fe-97d69002488b"
      },
      "execution_count": null,
      "outputs": [
        {
          "output_type": "execute_result",
          "data": {
            "text/plain": [
              "   mean_fit_time  std_fit_time  mean_score_time  std_score_time param_alpha  \\\n",
              "0      75.648946     15.295558         0.094237        0.014239           1   \n",
              "1      74.984978     12.895264         0.125651        0.027205           1   \n",
              "2     151.438883     23.625555         0.160358        0.017416         0.1   \n",
              "3     186.128705     28.817067         0.206955        0.034400         0.1   \n",
              "\n",
              "  param_hidden_layer_sizes                                             params  \\\n",
              "0             (50, 50, 50)   {'alpha': 1, 'hidden_layer_sizes': (50, 50, 50)}   \n",
              "1               (100, 100)     {'alpha': 1, 'hidden_layer_sizes': (100, 100)}   \n",
              "2             (50, 50, 50)  {'alpha': 0.1, 'hidden_layer_sizes': (50, 50, ...   \n",
              "3               (100, 100)   {'alpha': 0.1, 'hidden_layer_sizes': (100, 100)}   \n",
              "\n",
              "   split0_test_score  split1_test_score  split2_test_score  split3_test_score  \\\n",
              "0           0.966365           0.967402           0.968470           0.967866   \n",
              "1           0.962486           0.966766           0.965755           0.961398   \n",
              "2           0.969868           0.971186           0.972504           0.970013   \n",
              "3           0.970075           0.970678           0.972654           0.967898   \n",
              "\n",
              "   split4_test_score  mean_test_score  std_test_score  rank_test_score  \n",
              "0           0.964870         0.966995        0.001266                3  \n",
              "1           0.960564         0.963394        0.002440                4  \n",
              "2           0.970358         0.970786        0.000973                1  \n",
              "3           0.969924         0.970246        0.001525                2  "
            ],
            "text/html": [
              "\n",
              "  <div id=\"df-448dfb91-4ef3-4029-9071-3138c8263cd1\">\n",
              "    <div class=\"colab-df-container\">\n",
              "      <div>\n",
              "<style scoped>\n",
              "    .dataframe tbody tr th:only-of-type {\n",
              "        vertical-align: middle;\n",
              "    }\n",
              "\n",
              "    .dataframe tbody tr th {\n",
              "        vertical-align: top;\n",
              "    }\n",
              "\n",
              "    .dataframe thead th {\n",
              "        text-align: right;\n",
              "    }\n",
              "</style>\n",
              "<table border=\"1\" class=\"dataframe\">\n",
              "  <thead>\n",
              "    <tr style=\"text-align: right;\">\n",
              "      <th></th>\n",
              "      <th>mean_fit_time</th>\n",
              "      <th>std_fit_time</th>\n",
              "      <th>mean_score_time</th>\n",
              "      <th>std_score_time</th>\n",
              "      <th>param_alpha</th>\n",
              "      <th>param_hidden_layer_sizes</th>\n",
              "      <th>params</th>\n",
              "      <th>split0_test_score</th>\n",
              "      <th>split1_test_score</th>\n",
              "      <th>split2_test_score</th>\n",
              "      <th>split3_test_score</th>\n",
              "      <th>split4_test_score</th>\n",
              "      <th>mean_test_score</th>\n",
              "      <th>std_test_score</th>\n",
              "      <th>rank_test_score</th>\n",
              "    </tr>\n",
              "  </thead>\n",
              "  <tbody>\n",
              "    <tr>\n",
              "      <th>0</th>\n",
              "      <td>75.648946</td>\n",
              "      <td>15.295558</td>\n",
              "      <td>0.094237</td>\n",
              "      <td>0.014239</td>\n",
              "      <td>1</td>\n",
              "      <td>(50, 50, 50)</td>\n",
              "      <td>{'alpha': 1, 'hidden_layer_sizes': (50, 50, 50)}</td>\n",
              "      <td>0.966365</td>\n",
              "      <td>0.967402</td>\n",
              "      <td>0.968470</td>\n",
              "      <td>0.967866</td>\n",
              "      <td>0.964870</td>\n",
              "      <td>0.966995</td>\n",
              "      <td>0.001266</td>\n",
              "      <td>3</td>\n",
              "    </tr>\n",
              "    <tr>\n",
              "      <th>1</th>\n",
              "      <td>74.984978</td>\n",
              "      <td>12.895264</td>\n",
              "      <td>0.125651</td>\n",
              "      <td>0.027205</td>\n",
              "      <td>1</td>\n",
              "      <td>(100, 100)</td>\n",
              "      <td>{'alpha': 1, 'hidden_layer_sizes': (100, 100)}</td>\n",
              "      <td>0.962486</td>\n",
              "      <td>0.966766</td>\n",
              "      <td>0.965755</td>\n",
              "      <td>0.961398</td>\n",
              "      <td>0.960564</td>\n",
              "      <td>0.963394</td>\n",
              "      <td>0.002440</td>\n",
              "      <td>4</td>\n",
              "    </tr>\n",
              "    <tr>\n",
              "      <th>2</th>\n",
              "      <td>151.438883</td>\n",
              "      <td>23.625555</td>\n",
              "      <td>0.160358</td>\n",
              "      <td>0.017416</td>\n",
              "      <td>0.1</td>\n",
              "      <td>(50, 50, 50)</td>\n",
              "      <td>{'alpha': 0.1, 'hidden_layer_sizes': (50, 50, ...</td>\n",
              "      <td>0.969868</td>\n",
              "      <td>0.971186</td>\n",
              "      <td>0.972504</td>\n",
              "      <td>0.970013</td>\n",
              "      <td>0.970358</td>\n",
              "      <td>0.970786</td>\n",
              "      <td>0.000973</td>\n",
              "      <td>1</td>\n",
              "    </tr>\n",
              "    <tr>\n",
              "      <th>3</th>\n",
              "      <td>186.128705</td>\n",
              "      <td>28.817067</td>\n",
              "      <td>0.206955</td>\n",
              "      <td>0.034400</td>\n",
              "      <td>0.1</td>\n",
              "      <td>(100, 100)</td>\n",
              "      <td>{'alpha': 0.1, 'hidden_layer_sizes': (100, 100)}</td>\n",
              "      <td>0.970075</td>\n",
              "      <td>0.970678</td>\n",
              "      <td>0.972654</td>\n",
              "      <td>0.967898</td>\n",
              "      <td>0.969924</td>\n",
              "      <td>0.970246</td>\n",
              "      <td>0.001525</td>\n",
              "      <td>2</td>\n",
              "    </tr>\n",
              "  </tbody>\n",
              "</table>\n",
              "</div>\n",
              "      <button class=\"colab-df-convert\" onclick=\"convertToInteractive('df-448dfb91-4ef3-4029-9071-3138c8263cd1')\"\n",
              "              title=\"Convert this dataframe to an interactive table.\"\n",
              "              style=\"display:none;\">\n",
              "        \n",
              "  <svg xmlns=\"http://www.w3.org/2000/svg\" height=\"24px\"viewBox=\"0 0 24 24\"\n",
              "       width=\"24px\">\n",
              "    <path d=\"M0 0h24v24H0V0z\" fill=\"none\"/>\n",
              "    <path d=\"M18.56 5.44l.94 2.06.94-2.06 2.06-.94-2.06-.94-.94-2.06-.94 2.06-2.06.94zm-11 1L8.5 8.5l.94-2.06 2.06-.94-2.06-.94L8.5 2.5l-.94 2.06-2.06.94zm10 10l.94 2.06.94-2.06 2.06-.94-2.06-.94-.94-2.06-.94 2.06-2.06.94z\"/><path d=\"M17.41 7.96l-1.37-1.37c-.4-.4-.92-.59-1.43-.59-.52 0-1.04.2-1.43.59L10.3 9.45l-7.72 7.72c-.78.78-.78 2.05 0 2.83L4 21.41c.39.39.9.59 1.41.59.51 0 1.02-.2 1.41-.59l7.78-7.78 2.81-2.81c.8-.78.8-2.07 0-2.86zM5.41 20L4 18.59l7.72-7.72 1.47 1.35L5.41 20z\"/>\n",
              "  </svg>\n",
              "      </button>\n",
              "      \n",
              "  <style>\n",
              "    .colab-df-container {\n",
              "      display:flex;\n",
              "      flex-wrap:wrap;\n",
              "      gap: 12px;\n",
              "    }\n",
              "\n",
              "    .colab-df-convert {\n",
              "      background-color: #E8F0FE;\n",
              "      border: none;\n",
              "      border-radius: 50%;\n",
              "      cursor: pointer;\n",
              "      display: none;\n",
              "      fill: #1967D2;\n",
              "      height: 32px;\n",
              "      padding: 0 0 0 0;\n",
              "      width: 32px;\n",
              "    }\n",
              "\n",
              "    .colab-df-convert:hover {\n",
              "      background-color: #E2EBFA;\n",
              "      box-shadow: 0px 1px 2px rgba(60, 64, 67, 0.3), 0px 1px 3px 1px rgba(60, 64, 67, 0.15);\n",
              "      fill: #174EA6;\n",
              "    }\n",
              "\n",
              "    [theme=dark] .colab-df-convert {\n",
              "      background-color: #3B4455;\n",
              "      fill: #D2E3FC;\n",
              "    }\n",
              "\n",
              "    [theme=dark] .colab-df-convert:hover {\n",
              "      background-color: #434B5C;\n",
              "      box-shadow: 0px 1px 3px 1px rgba(0, 0, 0, 0.15);\n",
              "      filter: drop-shadow(0px 1px 2px rgba(0, 0, 0, 0.3));\n",
              "      fill: #FFFFFF;\n",
              "    }\n",
              "  </style>\n",
              "\n",
              "      <script>\n",
              "        const buttonEl =\n",
              "          document.querySelector('#df-448dfb91-4ef3-4029-9071-3138c8263cd1 button.colab-df-convert');\n",
              "        buttonEl.style.display =\n",
              "          google.colab.kernel.accessAllowed ? 'block' : 'none';\n",
              "\n",
              "        async function convertToInteractive(key) {\n",
              "          const element = document.querySelector('#df-448dfb91-4ef3-4029-9071-3138c8263cd1');\n",
              "          const dataTable =\n",
              "            await google.colab.kernel.invokeFunction('convertToInteractive',\n",
              "                                                     [key], {});\n",
              "          if (!dataTable) return;\n",
              "\n",
              "          const docLinkHtml = 'Like what you see? Visit the ' +\n",
              "            '<a target=\"_blank\" href=https://colab.research.google.com/notebooks/data_table.ipynb>data table notebook</a>'\n",
              "            + ' to learn more about interactive tables.';\n",
              "          element.innerHTML = '';\n",
              "          dataTable['output_type'] = 'display_data';\n",
              "          await google.colab.output.renderOutput(dataTable, element);\n",
              "          const docLink = document.createElement('div');\n",
              "          docLink.innerHTML = docLinkHtml;\n",
              "          element.appendChild(docLink);\n",
              "        }\n",
              "      </script>\n",
              "    </div>\n",
              "  </div>\n",
              "  "
            ]
          },
          "metadata": {},
          "execution_count": 127
        }
      ]
    },
    {
      "cell_type": "code",
      "source": [
        "nn_train_acc = model_neural.score(scaled_X_train_2, y_train_2)\n",
        "nn_test_acc = model_neural.score(scaled_X_test_2, y_test_2)\n",
        "nn_cv_acc = cross_val_score(model_neural.best_estimator_, scaled_X_train_2, y_train_2, cv=5).mean()\n",
        "print(f'Best Training f1 score: {nn_train_acc}')\n",
        "print(f'Best Testing f1 score: {nn_test_acc}')\n",
        "print(f'Cross-val-score: {nn_cv_acc}')"
      ],
      "metadata": {
        "id": "SjjleETrCtV9",
        "colab": {
          "base_uri": "https://localhost:8080/"
        },
        "outputId": "1e9214e4-4eec-4b8e-e839-3a188d2ce725"
      },
      "execution_count": null,
      "outputs": [
        {
          "output_type": "stream",
          "name": "stdout",
          "text": [
            "Best Training f1 score: 0.9745205578391842\n",
            "Best Testing f1 score: 0.9687931796260842\n",
            "Cross-val-score: 0.9727570028980846\n"
          ]
        }
      ]
    },
    {
      "cell_type": "markdown",
      "source": [
        "Mô hình không bị overfit hay underfit vì độ chính xác trên tập train xấp xỉ độ chính xác trên tập test (97%)"
      ],
      "metadata": {
        "id": "jVByhVEU6uYx"
      }
    },
    {
      "cell_type": "markdown",
      "source": [
        "## Phân tích lỗi"
      ],
      "metadata": {
        "id": "sksCxjUBDI9J"
      }
    },
    {
      "cell_type": "markdown",
      "source": [
        "Sử dụng kết quả dự đoán của mô hình Neural Network để phân tích lỗi"
      ],
      "metadata": {
        "id": "avLim8vSF-iH"
      }
    },
    {
      "cell_type": "code",
      "source": [
        "y_pred_nn = model_neural.predict(scaled_X_test_2)\n",
        "\n",
        "cm = confusion_matrix(y_test_2, y_pred_nn)\n",
        "cm_df = pd.DataFrame(cm, index=['Actually Not Canceled', 'Actually Canceled'],\n",
        "                 columns=['Predicted Not Canceled', 'Predicted Canceled'])\n",
        "\n",
        "plt.figure(figsize=(10,4))\n",
        "    \n",
        "sns.heatmap(cm, annot=True, fmt='g', cmap=\"Blues\",xticklabels=cm_df.columns, yticklabels=cm_df.index, annot_kws={\"size\": 20})\n",
        "plt.title(\"Neural Network Confusion Matrix\")\n",
        "plt.xlabel('Predicted Class')\n",
        "plt.ylabel('True Class');"
      ],
      "metadata": {
        "colab": {
          "base_uri": "https://localhost:8080/",
          "height": 295
        },
        "outputId": "50d41393-4408-4b75-a6cd-a3299732dc06",
        "id": "vlzg0QPeGIW_"
      },
      "execution_count": null,
      "outputs": [
        {
          "output_type": "display_data",
          "data": {
            "text/plain": [
              "<Figure size 720x288 with 2 Axes>"
            ],
            "image/png": "[encoded data removed]"
          },
          "metadata": {
            "needs_background": "light"
          }
        }
      ]
    },
    {
      "cell_type": "code",
      "source": [
        "print(classification_report(y_test_2, y_pred_nn))"
      ],
      "metadata": {
        "colab": {
          "base_uri": "https://localhost:8080/"
        },
        "outputId": "03a9577f-f388-4c5e-e3e4-611753d744a2",
        "id": "At6FbhrxG2Er"
      },
      "execution_count": null,
      "outputs": [
        {
          "output_type": "stream",
          "name": "stdout",
          "text": [
            "              precision    recall  f1-score   support\n",
            "\n",
            "           0       0.96      0.99      0.98     15003\n",
            "           1       0.99      0.94      0.96      8839\n",
            "\n",
            "    accuracy                           0.97     23842\n",
            "   macro avg       0.97      0.96      0.97     23842\n",
            "weighted avg       0.97      0.97      0.97     23842\n",
            "\n"
          ]
        }
      ]
    },
    {
      "cell_type": "markdown",
      "source": [
        "Nhìn chung, mô hình phân loại đúng 97% lượt đặt phòng. Trong đó, mô hình dự đoán đúng 99% lượt đặt phòng không bị hủy và 94% lượt hủy phòng. Nếu mô hình dự đoán 1 lượt đặt phòng không bị hủy thì lượt đặt phòng đó thực sự không bị hủy với xác suất 96%. Còn nếu mô hình dự đoán lượt đặt phòng đó sẽ bị hủy, thì 99% là dự đoán đó chính xác.\n",
        "\n",
        "Dựa trên ma trận nhầm lẫn, có 125 lượt đặt phòng được dự đoán là bị hủy trong khi thực chất nó không hề bị hủy. Sự sai lầm này khiến cho nhân viên khách sạn chưa thực sự sẵn sàng để đón khách hoặc trong trường hợp xấu hơn, phòng sẽ bị chuyển qua cho khách khác. Có 562 lượt đặt phòng được dự đoán là không bị hủy trong khi thực chất nó bị hủy. Dự đoán sai sẽ gây lãng phí nguồn lực khách sạn và bị mất một số khách khác."
      ],
      "metadata": {
        "id": "pXvNcWFVGKRO"
      }
    },
    {
      "cell_type": "code",
      "source": [
        "analysis = pd.DataFrame(y_test_2)\n",
        "analysis['prediction'] = y_pred_nn\n",
        "prediction_analysis = pd.merge(left=analysis, right=hotel_bookings.drop('is_canceled', axis = 1).loc[np.array(y_test_2.index), :], on=analysis.index)\n",
        "\n",
        "# Một số dự đoán nhầm lẫn \n",
        "prediction_analysis = prediction_analysis[prediction_analysis['is_canceled'] != prediction_analysis['prediction']]\n",
        "prediction_analysis[prediction_analysis['is_canceled'] == 1].sample(n = 5)[['is_canceled', 'prediction', 'previous_cancellations', \n",
        "                                                                            'required_car_parking_spaces','booking_changes', \n",
        "                                                                            'total_of_special_requests']]"
      ],
      "metadata": {
        "colab": {
          "base_uri": "https://localhost:8080/",
          "height": 206
        },
        "id": "GdRyHmluGsJP",
        "outputId": "79614e9d-be0c-4d01-dc1c-0515bd6d1635"
      },
      "execution_count": null,
      "outputs": [
        {
          "output_type": "execute_result",
          "data": {
            "text/plain": [
              "       is_canceled  prediction  previous_cancellations  \\\n",
              "1676             1           0                       0   \n",
              "12474            1           0                       0   \n",
              "3667             1           0                       0   \n",
              "20879            1           0                       0   \n",
              "22806            1           0                       0   \n",
              "\n",
              "       required_car_parking_spaces  booking_changes  total_of_special_requests  \n",
              "1676                             0                0                          2  \n",
              "12474                            0                2                          0  \n",
              "3667                             0                0                          1  \n",
              "20879                            0                0                          1  \n",
              "22806                            0                0                          0  "
            ],
            "text/html": [
              "\n",
              "  <div id=\"df-b14a2614-47b3-48dc-8030-5b4e54dbd7f7\">\n",
              "    <div class=\"colab-df-container\">\n",
              "      <div>\n",
              "<style scoped>\n",
              "    .dataframe tbody tr th:only-of-type {\n",
              "        vertical-align: middle;\n",
              "    }\n",
              "\n",
              "    .dataframe tbody tr th {\n",
              "        vertical-align: top;\n",
              "    }\n",
              "\n",
              "    .dataframe thead th {\n",
              "        text-align: right;\n",
              "    }\n",
              "</style>\n",
              "<table border=\"1\" class=\"dataframe\">\n",
              "  <thead>\n",
              "    <tr style=\"text-align: right;\">\n",
              "      <th></th>\n",
              "      <th>is_canceled</th>\n",
              "      <th>prediction</th>\n",
              "      <th>previous_cancellations</th>\n",
              "      <th>required_car_parking_spaces</th>\n",
              "      <th>booking_changes</th>\n",
              "      <th>total_of_special_requests</th>\n",
              "    </tr>\n",
              "  </thead>\n",
              "  <tbody>\n",
              "    <tr>\n",
              "      <th>1676</th>\n",
              "      <td>1</td>\n",
              "      <td>0</td>\n",
              "      <td>0</td>\n",
              "      <td>0</td>\n",
              "      <td>0</td>\n",
              "      <td>2</td>\n",
              "    </tr>\n",
              "    <tr>\n",
              "      <th>12474</th>\n",
              "      <td>1</td>\n",
              "      <td>0</td>\n",
              "      <td>0</td>\n",
              "      <td>0</td>\n",
              "      <td>2</td>\n",
              "      <td>0</td>\n",
              "    </tr>\n",
              "    <tr>\n",
              "      <th>3667</th>\n",
              "      <td>1</td>\n",
              "      <td>0</td>\n",
              "      <td>0</td>\n",
              "      <td>0</td>\n",
              "      <td>0</td>\n",
              "      <td>1</td>\n",
              "    </tr>\n",
              "    <tr>\n",
              "      <th>20879</th>\n",
              "      <td>1</td>\n",
              "      <td>0</td>\n",
              "      <td>0</td>\n",
              "      <td>0</td>\n",
              "      <td>0</td>\n",
              "      <td>1</td>\n",
              "    </tr>\n",
              "    <tr>\n",
              "      <th>22806</th>\n",
              "      <td>1</td>\n",
              "      <td>0</td>\n",
              "      <td>0</td>\n",
              "      <td>0</td>\n",
              "      <td>0</td>\n",
              "      <td>0</td>\n",
              "    </tr>\n",
              "  </tbody>\n",
              "</table>\n",
              "</div>\n",
              "      <button class=\"colab-df-convert\" onclick=\"convertToInteractive('df-b14a2614-47b3-48dc-8030-5b4e54dbd7f7')\"\n",
              "              title=\"Convert this dataframe to an interactive table.\"\n",
              "              style=\"display:none;\">\n",
              "        \n",
              "  <svg xmlns=\"http://www.w3.org/2000/svg\" height=\"24px\"viewBox=\"0 0 24 24\"\n",
              "       width=\"24px\">\n",
              "    <path d=\"M0 0h24v24H0V0z\" fill=\"none\"/>\n",
              "    <path d=\"M18.56 5.44l.94 2.06.94-2.06 2.06-.94-2.06-.94-.94-2.06-.94 2.06-2.06.94zm-11 1L8.5 8.5l.94-2.06 2.06-.94-2.06-.94L8.5 2.5l-.94 2.06-2.06.94zm10 10l.94 2.06.94-2.06 2.06-.94-2.06-.94-.94-2.06-.94 2.06-2.06.94z\"/><path d=\"M17.41 7.96l-1.37-1.37c-.4-.4-.92-.59-1.43-.59-.52 0-1.04.2-1.43.59L10.3 9.45l-7.72 7.72c-.78.78-.78 2.05 0 2.83L4 21.41c.39.39.9.59 1.41.59.51 0 1.02-.2 1.41-.59l7.78-7.78 2.81-2.81c.8-.78.8-2.07 0-2.86zM5.41 20L4 18.59l7.72-7.72 1.47 1.35L5.41 20z\"/>\n",
              "  </svg>\n",
              "      </button>\n",
              "      \n",
              "  <style>\n",
              "    .colab-df-container {\n",
              "      display:flex;\n",
              "      flex-wrap:wrap;\n",
              "      gap: 12px;\n",
              "    }\n",
              "\n",
              "    .colab-df-convert {\n",
              "      background-color: #E8F0FE;\n",
              "      border: none;\n",
              "      border-radius: 50%;\n",
              "      cursor: pointer;\n",
              "      display: none;\n",
              "      fill: #1967D2;\n",
              "      height: 32px;\n",
              "      padding: 0 0 0 0;\n",
              "      width: 32px;\n",
              "    }\n",
              "\n",
              "    .colab-df-convert:hover {\n",
              "      background-color: #E2EBFA;\n",
              "      box-shadow: 0px 1px 2px rgba(60, 64, 67, 0.3), 0px 1px 3px 1px rgba(60, 64, 67, 0.15);\n",
              "      fill: #174EA6;\n",
              "    }\n",
              "\n",
              "    [theme=dark] .colab-df-convert {\n",
              "      background-color: #3B4455;\n",
              "      fill: #D2E3FC;\n",
              "    }\n",
              "\n",
              "    [theme=dark] .colab-df-convert:hover {\n",
              "      background-color: #434B5C;\n",
              "      box-shadow: 0px 1px 3px 1px rgba(0, 0, 0, 0.15);\n",
              "      filter: drop-shadow(0px 1px 2px rgba(0, 0, 0, 0.3));\n",
              "      fill: #FFFFFF;\n",
              "    }\n",
              "  </style>\n",
              "\n",
              "      <script>\n",
              "        const buttonEl =\n",
              "          document.querySelector('#df-b14a2614-47b3-48dc-8030-5b4e54dbd7f7 button.colab-df-convert');\n",
              "        buttonEl.style.display =\n",
              "          google.colab.kernel.accessAllowed ? 'block' : 'none';\n",
              "\n",
              "        async function convertToInteractive(key) {\n",
              "          const element = document.querySelector('#df-b14a2614-47b3-48dc-8030-5b4e54dbd7f7');\n",
              "          const dataTable =\n",
              "            await google.colab.kernel.invokeFunction('convertToInteractive',\n",
              "                                                     [key], {});\n",
              "          if (!dataTable) return;\n",
              "\n",
              "          const docLinkHtml = 'Like what you see? Visit the ' +\n",
              "            '<a target=\"_blank\" href=https://colab.research.google.com/notebooks/data_table.ipynb>data table notebook</a>'\n",
              "            + ' to learn more about interactive tables.';\n",
              "          element.innerHTML = '';\n",
              "          dataTable['output_type'] = 'display_data';\n",
              "          await google.colab.output.renderOutput(dataTable, element);\n",
              "          const docLink = document.createElement('div');\n",
              "          docLink.innerHTML = docLinkHtml;\n",
              "          element.appendChild(docLink);\n",
              "        }\n",
              "      </script>\n",
              "    </div>\n",
              "  </div>\n",
              "  "
            ]
          },
          "metadata": {},
          "execution_count": 138
        }
      ]
    },
    {
      "cell_type": "markdown",
      "source": [
        "Những lượt đặt phòng trên có lịch sử hủy phòng bằng 0. Thông thường nếu số lần đã từng hủy phòng càng ít thì khả năng hủy phòng lần này không cao, vì thế nên mô hình đã dự đoán nhầm thành 0 (không hủy) thay vì 1 (hủy)."
      ],
      "metadata": {
        "id": "w75-X2gmLhrQ"
      }
    },
    {
      "cell_type": "code",
      "source": [
        "prediction_analysis[prediction_analysis['is_canceled'] == 0].sample(n = 5)[['is_canceled', 'prediction', 'previous_cancellations', \n",
        "                                                                            'required_car_parking_spaces','booking_changes', \n",
        "                                                                            'total_of_special_requests']]"
      ],
      "metadata": {
        "colab": {
          "base_uri": "https://localhost:8080/",
          "height": 206
        },
        "id": "xy7ZAZelANVK",
        "outputId": "17cc4ebf-d4fc-4e85-b348-9244d9c74bae"
      },
      "execution_count": null,
      "outputs": [
        {
          "output_type": "execute_result",
          "data": {
            "text/plain": [
              "       is_canceled  prediction  previous_cancellations  \\\n",
              "5290             0           1                       0   \n",
              "333              0           1                       0   \n",
              "9896             0           1                       0   \n",
              "8514             0           1                       0   \n",
              "18913            0           1                       0   \n",
              "\n",
              "       required_car_parking_spaces  booking_changes  total_of_special_requests  \n",
              "5290                             0                0                          0  \n",
              "333                              0                0                          1  \n",
              "9896                             0                0                          2  \n",
              "8514                             0                2                          1  \n",
              "18913                            0                0                          0  "
            ],
            "text/html": [
              "\n",
              "  <div id=\"df-3a59e08c-b345-4171-b7f2-42837b50f08e\">\n",
              "    <div class=\"colab-df-container\">\n",
              "      <div>\n",
              "<style scoped>\n",
              "    .dataframe tbody tr th:only-of-type {\n",
              "        vertical-align: middle;\n",
              "    }\n",
              "\n",
              "    .dataframe tbody tr th {\n",
              "        vertical-align: top;\n",
              "    }\n",
              "\n",
              "    .dataframe thead th {\n",
              "        text-align: right;\n",
              "    }\n",
              "</style>\n",
              "<table border=\"1\" class=\"dataframe\">\n",
              "  <thead>\n",
              "    <tr style=\"text-align: right;\">\n",
              "      <th></th>\n",
              "      <th>is_canceled</th>\n",
              "      <th>prediction</th>\n",
              "      <th>previous_cancellations</th>\n",
              "      <th>required_car_parking_spaces</th>\n",
              "      <th>booking_changes</th>\n",
              "      <th>total_of_special_requests</th>\n",
              "    </tr>\n",
              "  </thead>\n",
              "  <tbody>\n",
              "    <tr>\n",
              "      <th>5290</th>\n",
              "      <td>0</td>\n",
              "      <td>1</td>\n",
              "      <td>0</td>\n",
              "      <td>0</td>\n",
              "      <td>0</td>\n",
              "      <td>0</td>\n",
              "    </tr>\n",
              "    <tr>\n",
              "      <th>333</th>\n",
              "      <td>0</td>\n",
              "      <td>1</td>\n",
              "      <td>0</td>\n",
              "      <td>0</td>\n",
              "      <td>0</td>\n",
              "      <td>1</td>\n",
              "    </tr>\n",
              "    <tr>\n",
              "      <th>9896</th>\n",
              "      <td>0</td>\n",
              "      <td>1</td>\n",
              "      <td>0</td>\n",
              "      <td>0</td>\n",
              "      <td>0</td>\n",
              "      <td>2</td>\n",
              "    </tr>\n",
              "    <tr>\n",
              "      <th>8514</th>\n",
              "      <td>0</td>\n",
              "      <td>1</td>\n",
              "      <td>0</td>\n",
              "      <td>0</td>\n",
              "      <td>2</td>\n",
              "      <td>1</td>\n",
              "    </tr>\n",
              "    <tr>\n",
              "      <th>18913</th>\n",
              "      <td>0</td>\n",
              "      <td>1</td>\n",
              "      <td>0</td>\n",
              "      <td>0</td>\n",
              "      <td>0</td>\n",
              "      <td>0</td>\n",
              "    </tr>\n",
              "  </tbody>\n",
              "</table>\n",
              "</div>\n",
              "      <button class=\"colab-df-convert\" onclick=\"convertToInteractive('df-3a59e08c-b345-4171-b7f2-42837b50f08e')\"\n",
              "              title=\"Convert this dataframe to an interactive table.\"\n",
              "              style=\"display:none;\">\n",
              "        \n",
              "  <svg xmlns=\"http://www.w3.org/2000/svg\" height=\"24px\"viewBox=\"0 0 24 24\"\n",
              "       width=\"24px\">\n",
              "    <path d=\"M0 0h24v24H0V0z\" fill=\"none\"/>\n",
              "    <path d=\"M18.56 5.44l.94 2.06.94-2.06 2.06-.94-2.06-.94-.94-2.06-.94 2.06-2.06.94zm-11 1L8.5 8.5l.94-2.06 2.06-.94-2.06-.94L8.5 2.5l-.94 2.06-2.06.94zm10 10l.94 2.06.94-2.06 2.06-.94-2.06-.94-.94-2.06-.94 2.06-2.06.94z\"/><path d=\"M17.41 7.96l-1.37-1.37c-.4-.4-.92-.59-1.43-.59-.52 0-1.04.2-1.43.59L10.3 9.45l-7.72 7.72c-.78.78-.78 2.05 0 2.83L4 21.41c.39.39.9.59 1.41.59.51 0 1.02-.2 1.41-.59l7.78-7.78 2.81-2.81c.8-.78.8-2.07 0-2.86zM5.41 20L4 18.59l7.72-7.72 1.47 1.35L5.41 20z\"/>\n",
              "  </svg>\n",
              "      </button>\n",
              "      \n",
              "  <style>\n",
              "    .colab-df-container {\n",
              "      display:flex;\n",
              "      flex-wrap:wrap;\n",
              "      gap: 12px;\n",
              "    }\n",
              "\n",
              "    .colab-df-convert {\n",
              "      background-color: #E8F0FE;\n",
              "      border: none;\n",
              "      border-radius: 50%;\n",
              "      cursor: pointer;\n",
              "      display: none;\n",
              "      fill: #1967D2;\n",
              "      height: 32px;\n",
              "      padding: 0 0 0 0;\n",
              "      width: 32px;\n",
              "    }\n",
              "\n",
              "    .colab-df-convert:hover {\n",
              "      background-color: #E2EBFA;\n",
              "      box-shadow: 0px 1px 2px rgba(60, 64, 67, 0.3), 0px 1px 3px 1px rgba(60, 64, 67, 0.15);\n",
              "      fill: #174EA6;\n",
              "    }\n",
              "\n",
              "    [theme=dark] .colab-df-convert {\n",
              "      background-color: #3B4455;\n",
              "      fill: #D2E3FC;\n",
              "    }\n",
              "\n",
              "    [theme=dark] .colab-df-convert:hover {\n",
              "      background-color: #434B5C;\n",
              "      box-shadow: 0px 1px 3px 1px rgba(0, 0, 0, 0.15);\n",
              "      filter: drop-shadow(0px 1px 2px rgba(0, 0, 0, 0.3));\n",
              "      fill: #FFFFFF;\n",
              "    }\n",
              "  </style>\n",
              "\n",
              "      <script>\n",
              "        const buttonEl =\n",
              "          document.querySelector('#df-3a59e08c-b345-4171-b7f2-42837b50f08e button.colab-df-convert');\n",
              "        buttonEl.style.display =\n",
              "          google.colab.kernel.accessAllowed ? 'block' : 'none';\n",
              "\n",
              "        async function convertToInteractive(key) {\n",
              "          const element = document.querySelector('#df-3a59e08c-b345-4171-b7f2-42837b50f08e');\n",
              "          const dataTable =\n",
              "            await google.colab.kernel.invokeFunction('convertToInteractive',\n",
              "                                                     [key], {});\n",
              "          if (!dataTable) return;\n",
              "\n",
              "          const docLinkHtml = 'Like what you see? Visit the ' +\n",
              "            '<a target=\"_blank\" href=https://colab.research.google.com/notebooks/data_table.ipynb>data table notebook</a>'\n",
              "            + ' to learn more about interactive tables.';\n",
              "          element.innerHTML = '';\n",
              "          dataTable['output_type'] = 'display_data';\n",
              "          await google.colab.output.renderOutput(dataTable, element);\n",
              "          const docLink = document.createElement('div');\n",
              "          docLink.innerHTML = docLinkHtml;\n",
              "          element.appendChild(docLink);\n",
              "        }\n",
              "      </script>\n",
              "    </div>\n",
              "  </div>\n",
              "  "
            ]
          },
          "metadata": {},
          "execution_count": 139
        }
      ]
    },
    {
      "cell_type": "markdown",
      "source": [
        "Dựa trên số yêu cầu đặc biệt, yêu cầu về chỗ đậu xe và số lần thay đổi thông tin đặt phòng bằng 0, mô hình sẽ có xu hướng dự đoán lượt này bị hủy trong khi thực chất nó không bị hủy."
      ],
      "metadata": {
        "id": "51l0WT8fBEZs"
      }
    }
  ],
  "metadata": {
    "colab": {
      "collapsed_sections": [
        "R7H0sIp_9H3k",
        "xyrCXZA084Mv",
        "ChEp4XrcQAYp",
        "kc1sinBBzkUX",
        "SLFQnVoszb3f",
        "X2uOfCxozn5u",
        "hsSrj4q0zqlf",
        "3mSfnM2azt3f",
        "yC9W5LXFsA4b",
        "TtSOiSiBz5UW",
        "h3mNPPOZgNYz",
        "w0fX2ImlbAWS",
        "HG2IbVtMz5UX",
        "sLkrgPq9z5UX",
        "iMNiU7Sda42c",
        "NRKX45LiCQCT",
        "vSGzTuIGiSnv",
        "fZsIx69-eJrG"
      ],
      "name": "HotelCancellationPrediction.ipynb",
      "provenance": []
    },
    "kernelspec": {
      "display_name": "Python 3",
      "name": "python3"
    },
    "language_info": {
      "name": "python"
    }
  },
  "nbformat": 4,
  "nbformat_minor": 0
}